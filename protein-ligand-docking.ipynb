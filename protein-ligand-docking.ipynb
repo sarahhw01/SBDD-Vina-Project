{
 "cells": [
  {
   "cell_type": "code",
   "execution_count": 3,
   "metadata": {},
   "outputs": [],
   "source": [
    "# Imports\n",
    "import os\n",
    "import gzip\n",
    "from rdkit import Chem\n",
    "from rdkit.Chem import AllChem\n",
    "from meeko import MoleculePreparation, PDBQTWriterLegacy\n",
    "import subprocess"
   ]
  },
  {
   "cell_type": "code",
   "execution_count": 4,
   "metadata": {},
   "outputs": [
    {
     "name": "stdout",
     "output_type": "stream",
     "text": [
      "AutoDock Vina v1.2.7\n",
      "#################################################################\n",
      "# If you used AutoDock Vina in your work, please cite:          #\n",
      "#                                                               #\n",
      "# J. Eberhardt, D. Santos-Martins, A. F. Tillack, and S. Forli  #\n",
      "# AutoDock Vina 1.2.0: New Docking Methods, Expanded Force      #\n",
      "# Field, and Python Bindings, J. Chem. Inf. Model. (2021)       #\n",
      "# DOI 10.1021/acs.jcim.1c00203                                  #\n",
      "#                                                               #\n",
      "# O. Trott, A. J. Olson,                                        #\n",
      "# AutoDock Vina: improving the speed and accuracy of docking    #\n",
      "# with a new scoring function, efficient optimization and       #\n",
      "# multithreading, J. Comp. Chem. (2010)                         #\n",
      "# DOI 10.1002/jcc.21334                                         #\n",
      "#                                                               #\n",
      "# Please see https://github.com/ccsb-scripps/AutoDock-Vina for  #\n",
      "# more information.                                             #\n",
      "#################################################################\n",
      "\n",
      "Scoring function : vina\n",
      "Rigid receptor: 1A4G-receptor.pdbqt\n",
      "Ligand: 1A4G-ZMR.pdbqt\n",
      "Grid center: X 15.19 Y 53.903 Z 16.917\n",
      "Grid size  : X 20 Y 20 Z 20\n",
      "Grid space : 0.375\n",
      "Exhaustiveness: 16\n",
      "CPU: 0\n",
      "Verbosity: 1\n",
      "\n",
      "Computing Vina grid ... done.\n",
      "Performing docking (random seed: -227343128) ... \n",
      "0%   10   20   30   40   50   60   70   80   90   100%\n",
      "|----|----|----|----|----|----|----|----|----|----|\n",
      "***************************************************\n",
      "\n",
      "mode |   affinity | dist from best mode\n",
      "     | (kcal/mol) | rmsd l.b.| rmsd u.b.\n",
      "-----+------------+----------+----------\n",
      "   1       -5.092          0          0\n",
      "   2       -4.794      9.385      11.59\n",
      "   3        -4.68       9.33      10.92\n",
      "   4       -4.654      9.174      10.49\n",
      "   5       -4.536      7.408      9.459\n",
      "   6       -4.506      10.41      12.05\n",
      "   7       -4.458      10.91      12.74\n",
      "   8       -4.392      9.704       11.2\n",
      "   9       -4.251        9.9      11.95\n",
      "Docking done via command line\n"
     ]
    }
   ],
   "source": [
    "# The ligand and receptor preparation for 1A4G was done following this guide: https://www.cheminformania.com/ligand-docking-with-smina/\n",
    "# Receptor: 1A4G-receptor.pdbqt\n",
    "# Ligand: 1A4G-ZMR.pdbqt\n",
    "# Used parameters for box size and box center found here: https://autodock-vina.readthedocs.io/en/latest/docking_basic.html\n",
    "cmd = [\n",
    "    'vina',  # or 'vina.exe' on Windows or full path\n",
    "    '--receptor', '1A4G-receptor.pdbqt',\n",
    "    '--ligand', '1A4G-ZMR.pdbqt',\n",
    "    '--center_x', '15.190',  # specify box center coordinates (float)\n",
    "    '--center_y', '53.903',\n",
    "    '--center_z', '16.917',\n",
    "    '--size_x', '20.0',\n",
    "    '--size_y', '20.0',\n",
    "    '--size_z', '20.0',\n",
    "    '--exhaustiveness', '16',\n",
    "    '--out', 'vina_docked.pdbqt'\n",
    "]\n",
    "\n",
    "subprocess.run(cmd)\n",
    "print(\"Docking done via command line\")"
   ]
  }
 ],
 "metadata": {
  "kernelspec": {
   "display_name": "vina-project",
   "language": "python",
   "name": "python3"
  },
  "language_info": {
   "codemirror_mode": {
    "name": "ipython",
    "version": 3
   },
   "file_extension": ".py",
   "mimetype": "text/x-python",
   "name": "python",
   "nbconvert_exporter": "python",
   "pygments_lexer": "ipython3",
   "version": "3.10.18"
  }
 },
 "nbformat": 4,
 "nbformat_minor": 2
}
