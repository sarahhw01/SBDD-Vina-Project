{
 "cells": [
  {
   "cell_type": "code",
   "execution_count": 1,
   "metadata": {},
   "outputs": [],
   "source": [
    "# Imports\n",
    "import subprocess\n",
    "import os"
   ]
  },
  {
   "cell_type": "code",
   "execution_count": 2,
   "metadata": {},
   "outputs": [
    {
     "name": "stdout",
     "output_type": "stream",
     "text": [
      "1 molecule converted\n",
      "1 molecule converted\n"
     ]
    }
   ],
   "source": [
    "# Create pdbqt files of receptor and ligand using obabel\n",
    "!obabel 1A4G-receptor.pdb -xr -O 1A4G-receptor.pdbqt\n",
    "!obabel 1A4G-ZMR.pdb -O 1A4G-ZMR.pdbqt"
   ]
  },
  {
   "cell_type": "code",
   "execution_count": 3,
   "metadata": {},
   "outputs": [
    {
     "name": "stdout",
     "output_type": "stream",
     "text": [
      "Center X:  -2.863 Center Y:  56.1055 Center Z:  -8.5645\n",
      "Size X:  13.55 Size Y:  10.185000000000002 Size Z:  11.503\n"
     ]
    }
   ],
   "source": [
    "# in Pymol we get the bounding box of the chosen ligand like this: get_extent ligand_ZMR\n",
    "# This gives us the min values and max values for x, y, z, from these compute the box centers for docking\n",
    "min = {'x': -7.638, 'y': 53.013, 'z': -12.316}\n",
    "max = {'x': 1.912, 'y': 59.198, 'z': -4.813}\n",
    "\n",
    "# calc box center and size\n",
    "center_x = (min['x'] + max['x']) / 2\n",
    "center_y = (min['y'] + max['y']) / 2\n",
    "center_z = (min['z'] + max['z']) / 2\n",
    "\n",
    "# calc box size\n",
    "size_x = (max['x'] - min['x']) + 4\n",
    "size_y = (max['y'] - min['y']) + 4\n",
    "size_z = (max['z'] - min['z']) + 4\n",
    "\n",
    "print(\"Center X: \", center_x, \"Center Y: \", center_y, \"Center Z: \", center_z)\n",
    "print(\"Size X: \", size_x, \"Size Y: \", size_y, \"Size Z: \", size_z)"
   ]
  },
  {
   "cell_type": "code",
   "execution_count": 6,
   "metadata": {},
   "outputs": [
    {
     "name": "stdout",
     "output_type": "stream",
     "text": [
      "AutoDock Vina v1.2.7\n",
      "#################################################################\n",
      "# If you used AutoDock Vina in your work, please cite:          #\n",
      "#                                                               #\n",
      "# J. Eberhardt, D. Santos-Martins, A. F. Tillack, and S. Forli  #\n",
      "# AutoDock Vina 1.2.0: New Docking Methods, Expanded Force      #\n",
      "# Field, and Python Bindings, J. Chem. Inf. Model. (2021)       #\n",
      "# DOI 10.1021/acs.jcim.1c00203                                  #\n",
      "#                                                               #\n",
      "# O. Trott, A. J. Olson,                                        #\n",
      "# AutoDock Vina: improving the speed and accuracy of docking    #\n",
      "# with a new scoring function, efficient optimization and       #\n",
      "# multithreading, J. Comp. Chem. (2010)                         #\n",
      "# DOI 10.1002/jcc.21334                                         #\n",
      "#                                                               #\n",
      "# Please see https://github.com/ccsb-scripps/AutoDock-Vina for  #\n",
      "# more information.                                             #\n",
      "#################################################################\n",
      "\n",
      "Scoring function : vina\n",
      "Rigid receptor: 1A4G-receptor.pdbqt\n",
      "Ligand: 1A4G-ZMR.pdbqt\n",
      "Grid center: X -2.863 Y 56.1055 Z -8.5645\n",
      "Grid size  : X 13.55 Y 10.185 Z 11.503\n",
      "Grid space : 0.375\n",
      "Exhaustiveness: 16\n",
      "CPU: 0\n",
      "Verbosity: 1\n",
      "\n",
      "Computing Vina grid ... done.\n",
      "Performing docking (random seed: 1115725815) ... \n",
      "0%   10   20   30   40   50   60   70   80   90   100%\n",
      "|----|----|----|----|----|----|----|----|----|----|\n",
      "***************************************************\n",
      "\n",
      "mode |   affinity | dist from best mode\n",
      "     | (kcal/mol) | rmsd l.b.| rmsd u.b.\n",
      "-----+------------+----------+----------\n",
      "   1        -7.99          0          0\n",
      "   2       -7.644      2.158      4.653\n",
      "   3       -7.287      3.316      5.278\n",
      "   4       -7.018      2.444      4.932\n",
      "   5       -6.993      2.208      2.831\n",
      "   6       -6.857      1.383       1.43\n",
      "   7       -6.779      3.231        5.6\n",
      "   8       -6.627      3.104      4.877\n",
      "   9       -6.333      2.196      4.842\n",
      "Docking done via command line\n"
     ]
    }
   ],
   "source": [
    "# The ligand and receptor preparation for 1A4G was done following this guide: https://www.cheminformania.com/ligand-docking-with-smina/\n",
    "# Receptor: 1A4G-receptor.pdbqt\n",
    "# Ligand: 1A4G-ZMR.pdbqt\n",
    "# Used parameters for box size and box center found here: https://autodock-vina.readthedocs.io/en/latest/docking_basic.html\n",
    "cmd = [\n",
    "    'vina',  \n",
    "    '--receptor', '1A4G-receptor.pdbqt',\n",
    "    '--ligand', '1A4G-ZMR.pdbqt',\n",
    "    '--center_x', str(center_x),  # specify box center coordinates (float)\n",
    "    '--center_y', str(center_y),\n",
    "    '--center_z', str(center_z),\n",
    "    '--size_x', str(size_x),\n",
    "    '--size_y', str(size_y),\n",
    "    '--size_z', str(size_z),\n",
    "    '--exhaustiveness', '16',\n",
    "    '--out', 'vina_docked.pdbqt'\n",
    "]\n",
    "\n",
    "subprocess.run(cmd)\n",
    "print(\"Docking done via command line\")"
   ]
  },
  {
   "cell_type": "code",
   "execution_count": 7,
   "metadata": {},
   "outputs": [],
   "source": [
    "# Function to extract the energetically most favorable candidate from the vina_docked file\n",
    "def extract_top_pose(vina_pdbqt_path, output_path):\n",
    "    with open(vina_pdbqt_path) as f_in, open(output_path, 'w') as f_out:\n",
    "        write = False\n",
    "        for line in f_in:\n",
    "            if line.startswith('REMARK VINA RESULT:'):\n",
    "                if write:  # we've already found first pose, stop here\n",
    "                    break\n",
    "                else:\n",
    "                    write = True  # start writing pose from here\n",
    "            if write:\n",
    "                f_out.write(line)\n"
   ]
  },
  {
   "cell_type": "code",
   "execution_count": 8,
   "metadata": {},
   "outputs": [
    {
     "name": "stdout",
     "output_type": "stream",
     "text": [
      "1 molecule converted\n"
     ]
    }
   ],
   "source": [
    "# Extract top candidate\n",
    "extract_top_pose('vina_docked.pdbqt', 'top_pose.pdbqt')\n",
    "!obabel top_pose.pdbqt -O top_pose.pdb\n"
   ]
  },
  {
   "cell_type": "code",
   "execution_count": 9,
   "metadata": {},
   "outputs": [
    {
     "name": "stdout",
     "output_type": "stream",
     "text": [
      "RMSD: 0.10 Å\n"
     ]
    }
   ],
   "source": [
    "# Compute RMSD of the energetically most favourable candidate\n",
    "!python3 compute_rmsd.py -i 1A4G-ZMR.pdb -i2 top_pose.pdb"
   ]
  },
  {
   "cell_type": "code",
   "execution_count": 10,
   "metadata": {},
   "outputs": [
    {
     "name": "stdout",
     "output_type": "stream",
     "text": [
      "Saved 1A4G_Candidates/pose_1.pdbqt\n",
      "Saved 1A4G_Candidates/pose_2.pdbqt\n",
      "Saved 1A4G_Candidates/pose_3.pdbqt\n",
      "Saved 1A4G_Candidates/pose_4.pdbqt\n",
      "Saved 1A4G_Candidates/pose_5.pdbqt\n",
      "Saved 1A4G_Candidates/pose_6.pdbqt\n",
      "Saved 1A4G_Candidates/pose_7.pdbqt\n",
      "Saved 1A4G_Candidates/pose_8.pdbqt\n",
      "Saved 1A4G_Candidates/pose_9.pdbqt\n"
     ]
    }
   ],
   "source": [
    "# To check if there is a candidate with a better RMSD score, we split the mulit-pose file generated by AutoDock Vine\n",
    "def split_pdbqt(filename, molecule_pdb):\n",
    "    with open(filename, 'r') as f:\n",
    "        lines = f.readlines()\n",
    "\n",
    "    pose_num = 0\n",
    "    pose_lines = []\n",
    "    for line in lines:\n",
    "        if line.startswith(\"MODEL\"):\n",
    "            pose_lines = [line]\n",
    "        elif line.startswith(\"ENDMDL\"):\n",
    "            pose_lines.append(line)\n",
    "            pose_num += 1\n",
    "            out_name = f\"{molecule_pdb}_Candidates/pose_{pose_num}.pdbqt\"\n",
    "            with open(out_name, \"w\") as out_file:\n",
    "                out_file.writelines(pose_lines)\n",
    "            print(f\"Saved {out_name}\")\n",
    "        else:\n",
    "            pose_lines.append(line)\n",
    "\n",
    "\n",
    "split_pdbqt(\"vina_docked.pdbqt\", \"1A4G\")\n"
   ]
  },
  {
   "cell_type": "code",
   "execution_count": 11,
   "metadata": {},
   "outputs": [
    {
     "name": "stdout",
     "output_type": "stream",
     "text": [
      "Computing RMSD for 9 poses:\n",
      "Pose 1: RMSD = 0.10 Å\n",
      "Pose 2: RMSD = 0.16 Å\n",
      "Pose 3: RMSD = 0.45 Å\n",
      "Pose 4: RMSD = 0.82 Å\n",
      "Pose 5: RMSD = 0.86 Å\n",
      "Pose 6: RMSD = 0.16 Å\n",
      "Pose 7: RMSD = 0.26 Å\n",
      "Pose 8: RMSD = 0.50 Å\n",
      "Pose 9: RMSD = 0.40 Å\n",
      "\n",
      "Best RMSD: 0.10 Å at pose 1\n"
     ]
    }
   ],
   "source": [
    "!python3 compute_multiple_rmsd.py -i 1A4G-ZMR.pdb -i2 1A4G_Candidates/ "
   ]
  }
 ],
 "metadata": {
  "kernelspec": {
   "display_name": "vina-project",
   "language": "python",
   "name": "python3"
  },
  "language_info": {
   "codemirror_mode": {
    "name": "ipython",
    "version": 3
   },
   "file_extension": ".py",
   "mimetype": "text/x-python",
   "name": "python",
   "nbconvert_exporter": "python",
   "pygments_lexer": "ipython3",
   "version": "3.10.18"
  }
 },
 "nbformat": 4,
 "nbformat_minor": 2
}
