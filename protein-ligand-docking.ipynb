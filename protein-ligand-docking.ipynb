{
 "cells": [
  {
   "cell_type": "code",
   "execution_count": 30,
   "metadata": {},
   "outputs": [],
   "source": [
    "# Imports\n",
    "import subprocess\n",
    "import os"
   ]
  },
  {
   "cell_type": "code",
   "execution_count": 2,
   "metadata": {},
   "outputs": [
    {
     "name": "stdout",
     "output_type": "stream",
     "text": [
      "1 molecule converted\n",
      "1 molecule converted\n"
     ]
    }
   ],
   "source": [
    "# Create pdbqt files of receptor and ligand using obabel\n",
    "!obabel 1A4G-receptor.pdb -xr -O 1A4G-receptor.pdbqt\n",
    "!obabel 1A4G-ZMR.pdb -O 1A4G-ZMR.pdbqt"
   ]
  },
  {
   "cell_type": "code",
   "execution_count": 3,
   "metadata": {},
   "outputs": [
    {
     "name": "stdout",
     "output_type": "stream",
     "text": [
      "AutoDock Vina v1.2.7\n",
      "#################################################################\n",
      "# If you used AutoDock Vina in your work, please cite:          #\n",
      "#                                                               #\n",
      "# J. Eberhardt, D. Santos-Martins, A. F. Tillack, and S. Forli  #\n",
      "# AutoDock Vina 1.2.0: New Docking Methods, Expanded Force      #\n",
      "# Field, and Python Bindings, J. Chem. Inf. Model. (2021)       #\n",
      "# DOI 10.1021/acs.jcim.1c00203                                  #\n",
      "#                                                               #\n",
      "# O. Trott, A. J. Olson,                                        #\n",
      "# AutoDock Vina: improving the speed and accuracy of docking    #\n",
      "# with a new scoring function, efficient optimization and       #\n",
      "# multithreading, J. Comp. Chem. (2010)                         #\n",
      "# DOI 10.1002/jcc.21334                                         #\n",
      "#                                                               #\n",
      "# Please see https://github.com/ccsb-scripps/AutoDock-Vina for  #\n",
      "# more information.                                             #\n",
      "#################################################################\n",
      "\n",
      "Scoring function : vina\n",
      "Rigid receptor: 1A4G-receptor.pdbqt\n",
      "Ligand: 1A4G-ZMR.pdbqt\n",
      "Grid center: X 15.19 Y 53.903 Z 16.917\n",
      "Grid size  : X 20 Y 20 Z 20\n",
      "Grid space : 0.375\n",
      "Exhaustiveness: 16\n",
      "CPU: 0\n",
      "Verbosity: 1\n",
      "\n",
      "Computing Vina grid ... done.\n",
      "Performing docking (random seed: 986957951) ... \n",
      "0%   10   20   30   40   50   60   70   80   90   100%\n",
      "|----|----|----|----|----|----|----|----|----|----|\n",
      "***************************************************\n",
      "\n",
      "mode |   affinity | dist from best mode\n",
      "     | (kcal/mol) | rmsd l.b.| rmsd u.b.\n",
      "-----+------------+----------+----------\n",
      "   1       -5.075          0          0\n",
      "   2        -4.71      9.471      10.97\n",
      "   3       -4.665      9.337      10.58\n",
      "   4       -4.558      7.408      9.536\n",
      "   5       -4.527      11.13      12.85\n",
      "   6        -4.51      10.27      11.73\n",
      "   7       -4.397      2.801      5.122\n",
      "   8       -4.379      10.29      11.73\n",
      "   9        -4.28      9.862      11.54\n",
      "Docking done via command line\n"
     ]
    }
   ],
   "source": [
    "# The ligand and receptor preparation for 1A4G was done following this guide: https://www.cheminformania.com/ligand-docking-with-smina/\n",
    "# Receptor: 1A4G-receptor.pdbqt\n",
    "# Ligand: 1A4G-ZMR.pdbqt\n",
    "# Used parameters for box size and box center found here: https://autodock-vina.readthedocs.io/en/latest/docking_basic.html\n",
    "cmd = [\n",
    "    'vina',  \n",
    "    '--receptor', '1A4G-receptor.pdbqt',\n",
    "    '--ligand', '1A4G-ZMR.pdbqt',\n",
    "    '--center_x', '15.190',  # specify box center coordinates (float)\n",
    "    '--center_y', '53.903',\n",
    "    '--center_z', '16.917',\n",
    "    '--size_x', '20.0',\n",
    "    '--size_y', '20.0',\n",
    "    '--size_z', '20.0',\n",
    "    '--exhaustiveness', '16',\n",
    "    '--out', 'vina_docked.pdbqt'\n",
    "]\n",
    "\n",
    "subprocess.run(cmd)\n",
    "print(\"Docking done via command line\")"
   ]
  },
  {
   "cell_type": "code",
   "execution_count": 43,
   "metadata": {},
   "outputs": [],
   "source": [
    "# Function to extract the energetically most favorable candidate from the vina_docked file\n",
    "def extract_top_pose(vina_pdbqt_path, output_path):\n",
    "    with open(vina_pdbqt_path) as f_in, open(output_path, 'w') as f_out:\n",
    "        write = False\n",
    "        for line in f_in:\n",
    "            if line.startswith('REMARK VINA RESULT:'):\n",
    "                if write:  # we've already found first pose, stop here\n",
    "                    break\n",
    "                else:\n",
    "                    write = True  # start writing pose from here\n",
    "            if write:\n",
    "                f_out.write(line)\n"
   ]
  },
  {
   "cell_type": "code",
   "execution_count": 45,
   "metadata": {},
   "outputs": [
    {
     "name": "stdout",
     "output_type": "stream",
     "text": [
      "1 molecule converted\n"
     ]
    }
   ],
   "source": [
    "# Extract top candidate\n",
    "extract_top_pose('vina_docked.pdbqt', 'top_pose.pdbqt')\n",
    "!obabel top_pose.pdbqt -O top_pose.pdb\n"
   ]
  },
  {
   "cell_type": "code",
   "execution_count": 46,
   "metadata": {},
   "outputs": [
    {
     "name": "stdout",
     "output_type": "stream",
     "text": [
      "RMSD: 0.43 Å\n"
     ]
    }
   ],
   "source": [
    "# Compute RMSD of the energetically most favourable candidate\n",
    "!python3 compute_rmsd.py -i 1A4G-ZMR.pdb -i2 top_pose.pdb"
   ]
  },
  {
   "cell_type": "code",
   "execution_count": 17,
   "metadata": {},
   "outputs": [
    {
     "name": "stdout",
     "output_type": "stream",
     "text": [
      "Saved 1A4G_Candidates/pose_1.pdbqt\n",
      "Saved 1A4G_Candidates/pose_2.pdbqt\n",
      "Saved 1A4G_Candidates/pose_3.pdbqt\n",
      "Saved 1A4G_Candidates/pose_4.pdbqt\n",
      "Saved 1A4G_Candidates/pose_5.pdbqt\n",
      "Saved 1A4G_Candidates/pose_6.pdbqt\n",
      "Saved 1A4G_Candidates/pose_7.pdbqt\n",
      "Saved 1A4G_Candidates/pose_8.pdbqt\n",
      "Saved 1A4G_Candidates/pose_9.pdbqt\n"
     ]
    }
   ],
   "source": [
    "# To check if there is a candidate with a better RMSD score, we split the mulit-pose file generated by AutoDock Vine\n",
    "def split_pdbqt(filename, molecule_pdb):\n",
    "    with open(filename, 'r') as f:\n",
    "        lines = f.readlines()\n",
    "\n",
    "    pose_num = 0\n",
    "    pose_lines = []\n",
    "    for line in lines:\n",
    "        if line.startswith(\"MODEL\"):\n",
    "            pose_lines = [line]\n",
    "        elif line.startswith(\"ENDMDL\"):\n",
    "            pose_lines.append(line)\n",
    "            pose_num += 1\n",
    "            out_name = f\"{molecule_pdb}_Candidates/pose_{pose_num}.pdbqt\"\n",
    "            with open(out_name, \"w\") as out_file:\n",
    "                out_file.writelines(pose_lines)\n",
    "            print(f\"Saved {out_name}\")\n",
    "        else:\n",
    "            pose_lines.append(line)\n",
    "\n",
    "\n",
    "split_pdbqt(\"vina_docked.pdbqt\", \"1A4G\")\n"
   ]
  },
  {
   "cell_type": "code",
   "execution_count": 42,
   "metadata": {},
   "outputs": [
    {
     "name": "stdout",
     "output_type": "stream",
     "text": [
      "Computing RMSD for 9 poses:\n",
      "Pose 1: RMSD = 0.43 Å\n",
      "Pose 2: RMSD = 0.51 Å\n",
      "Pose 3: RMSD = 0.56 Å\n",
      "Pose 4: RMSD = 0.25 Å\n",
      "Pose 5: RMSD = 0.66 Å\n",
      "Pose 6: RMSD = 0.23 Å\n",
      "Pose 7: RMSD = 0.16 Å\n",
      "Pose 8: RMSD = 0.53 Å\n",
      "Pose 9: RMSD = 0.25 Å\n",
      "\n",
      "Best RMSD: 0.16 Å at pose 7\n"
     ]
    }
   ],
   "source": [
    "!python3 compute_multiple_rmsd.py -i 1A4G-ZMR.pdb -i2 1A4G_Candidates/ # in fact there are poses with a lower RMSD than the energetically most favorable pose"
   ]
  }
 ],
 "metadata": {
  "kernelspec": {
   "display_name": "vina-project",
   "language": "python",
   "name": "python3"
  },
  "language_info": {
   "codemirror_mode": {
    "name": "ipython",
    "version": 3
   },
   "file_extension": ".py",
   "mimetype": "text/x-python",
   "name": "python",
   "nbconvert_exporter": "python",
   "pygments_lexer": "ipython3",
   "version": "3.10.18"
  }
 },
 "nbformat": 4,
 "nbformat_minor": 2
}
