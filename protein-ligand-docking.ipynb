{
 "cells": [
  {
   "cell_type": "code",
   "execution_count": 7,
   "metadata": {},
   "outputs": [],
   "source": [
    "# Imports\n",
    "import os\n",
    "import gzip\n",
    "from rdkit import Chem\n",
    "from rdkit.Chem import AllChem\n",
    "from meeko import MoleculePreparation, PDBQTWriterLegacy"
   ]
  },
  {
   "cell_type": "code",
   "execution_count": 2,
   "metadata": {},
   "outputs": [],
   "source": [
    "# Paths\n",
    "folder = \"1a4g_na\"\n",
    "ligands_file = os.path.join(folder, \"na-ligands.sdf.gz\")\n",
    "decoys_file = os.path.join(folder, \"na-decoys.sdf.gz\")\n",
    "\n",
    "output_ligands_dir = os.path.join(folder, \"prepared_ligands\")\n",
    "output_decoys_dir = os.path.join(folder, \"prepared_decoys\")\n",
    "\n",
    "os.makedirs(output_ligands_dir, exist_ok=True)\n",
    "os.makedirs(output_decoys_dir, exist_ok=True)\n"
   ]
  },
  {
   "cell_type": "code",
   "execution_count": 14,
   "metadata": {},
   "outputs": [],
   "source": [
    "def load_molecules_from_gz_sdf(path):\n",
    "    with gzip.open(path, 'rb') as f:\n",
    "        suppl = Chem.ForwardSDMolSupplier(f)\n",
    "        molecules = [mol for mol in suppl if mol is not None]\n",
    "    return molecules\n",
    "\n",
    "def prepare_and_save_pdbqt(mol, output_path):\n",
    "    # Add hydrogens and embed 3D if no coordinates\n",
    "    mol = Chem.AddHs(mol)\n",
    "    if not mol.GetConformer().Is3D():\n",
    "        AllChem.EmbedMolecule(mol)\n",
    "        AllChem.UFFOptimizeMolecule(mol)\n",
    "    \n",
    "    # Prepare molecule for docking with Meeko\n",
    "    prep = MoleculePreparation()\n",
    "    molecule_setups = prep.prepare(mol)\n",
    "\n",
    "    # take first setup\n",
    "    molecule_setup = molecule_setups[0]\n",
    "\n",
    "    # write pdbqt file\n",
    "    writer = PDBQTWriterLegacy()\n",
    "    pdbqt_string = writer.write_string(molecule_setup)\n",
    "    print(pdbqt_string)\n",
    "\n",
    "    # Save to file\n",
    "    with open(output_path, \"w\") as f:\n",
    "        f.write(pdbqt_string)"
   ]
  },
  {
   "cell_type": "code",
   "execution_count": 16,
   "metadata": {},
   "outputs": [
    {
     "name": "stdout",
     "output_type": "stream",
     "text": [
      "Loading ligands...\n",
      "Loaded 40 ligands.\n",
      "Loading decoys...\n",
      "Loaded 1200 decoys.\n"
     ]
    }
   ],
   "source": [
    "# Load molecules\n",
    "print(\"Loading ligands...\")\n",
    "ligands = load_molecules_from_gz_sdf(ligands_file)\n",
    "print(f\"Loaded {len(ligands)} ligands.\")\n",
    "\n",
    "print(\"Loading decoys...\")\n",
    "decoys = load_molecules_from_gz_sdf(decoys_file)\n",
    "print(f\"Loaded {len(decoys)} decoys.\")\n"
   ]
  }
 ],
 "metadata": {
  "kernelspec": {
   "display_name": "vina-project",
   "language": "python",
   "name": "python3"
  },
  "language_info": {
   "codemirror_mode": {
    "name": "ipython",
    "version": 3
   },
   "file_extension": ".py",
   "mimetype": "text/x-python",
   "name": "python",
   "nbconvert_exporter": "python",
   "pygments_lexer": "ipython3",
   "version": "3.10.18"
  }
 },
 "nbformat": 4,
 "nbformat_minor": 2
}
