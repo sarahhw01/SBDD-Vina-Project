{
 "cells": [
  {
   "cell_type": "code",
   "execution_count": 1,
   "metadata": {},
   "outputs": [],
   "source": [
    "# Imports\n",
    "import subprocess\n",
    "import os\n",
    "from joblib import Parallel, delayed\n",
    "import pandas as pd\n",
    "from sklearn.metrics import roc_curve, roc_auc_score\n",
    "import matplotlib.pyplot as plt"
   ]
  },
  {
   "cell_type": "code",
   "execution_count": 2,
   "metadata": {},
   "outputs": [
    {
     "name": "stdout",
     "output_type": "stream",
     "text": [
      "gunzip: can't stat: 1a4g_na/na-decoys.sdf.gz (1a4g_na/na-decoys.sdf.gz.gz): No such file or directory\n",
      "gunzip: can't stat: 1a4g_na/na-ligands.sdf.gz (1a4g_na/na-ligands.sdf.gz.gz): No such file or directory\n"
     ]
    }
   ],
   "source": [
    "dir = \"1a4g_na\"\n",
    "abbr = \"na\"\n",
    "receptor = \"1A4G\"  # prefix of the receptor file\n",
    "!gunzip $dir/$abbr-decoys.sdf.gz\n",
    "!gunzip $dir/$abbr-ligands.sdf.gz"
   ]
  },
  {
   "cell_type": "code",
   "execution_count": 3,
   "metadata": {},
   "outputs": [
    {
     "name": "stdout",
     "output_type": "stream",
     "text": [
      "40 molecules converted\n",
      "1200 molecules converted\n"
     ]
    }
   ],
   "source": [
    "# Create pdbqt files of ligands (true and decoy) using obabel\n",
    "!obabel $dir/$abbr-ligands.sdf -O $dir/$abbr-ligands.pdbqt\n",
    "!obabel $dir/$abbr-decoys.sdf -O $dir/$abbr-decoys.pdbqt"
   ]
  },
  {
   "cell_type": "code",
   "execution_count": 4,
   "metadata": {},
   "outputs": [],
   "source": [
    "def split_pdbqt(input_file, output_prefix):\n",
    "    \"\"\"\n",
    "    Splits a multi-model PDBQT file into individual files,\n",
    "    stripping MODEL/ENDMDL for Vina compatibility.\n",
    "    \"\"\"\n",
    "    with open(input_file, 'r') as file:\n",
    "        lines = file.readlines()\n",
    "\n",
    "    model = []\n",
    "    model_count = 0\n",
    "    inside_model = False\n",
    "\n",
    "    for line in lines:\n",
    "        if line.startswith(\"MODEL\"):\n",
    "            inside_model = True\n",
    "            model = []\n",
    "        elif line.startswith(\"ENDMDL\"):\n",
    "            inside_model = False\n",
    "            # Write model to file\n",
    "            output_file = f\"{output_prefix}_{model_count:03d}.pdbqt\"\n",
    "            with open(output_file, 'w') as out:\n",
    "                out.writelines(model)\n",
    "            model_count += 1\n",
    "        elif inside_model:\n",
    "            model.append(line)\n",
    "\n",
    "    print(f\"Saved {model_count} ligand files to {output_prefix}_*.pdbqt\")\n",
    "\n",
    "\n",
    "# Example usage\n",
    "def split_ligands_and_decoys(dir, abbr):\n",
    "    output_dir_ligands = os.path.join(dir, \"split_ligands\")\n",
    "    output_dir_decoys = os.path.join(dir, \"split_decoys\")\n",
    "    os.makedirs(output_dir_ligands, exist_ok=True)\n",
    "    os.makedirs(output_dir_decoys, exist_ok=True)\n",
    "\n",
    "    input_ligands = os.path.join(dir, f\"{abbr}-ligands.pdbqt\")\n",
    "    input_decoys = os.path.join(dir, f\"{abbr}-decoys.pdbqt\")\n",
    "\n",
    "    split_pdbqt(input_ligands, os.path.join(output_dir_ligands, \"ligand\"))\n",
    "    split_pdbqt(input_decoys, os.path.join(output_dir_decoys, \"decoy\"))\n"
   ]
  },
  {
   "cell_type": "code",
   "execution_count": 5,
   "metadata": {},
   "outputs": [
    {
     "name": "stdout",
     "output_type": "stream",
     "text": [
      "Saved 40 ligand files to 1a4g_na/split_ligands/ligand_*.pdbqt\n",
      "Saved 1200 ligand files to 1a4g_na/split_decoys/decoy_*.pdbqt\n"
     ]
    }
   ],
   "source": [
    "split_ligands_and_decoys(dir, abbr)"
   ]
  },
  {
   "cell_type": "code",
   "execution_count": 6,
   "metadata": {},
   "outputs": [],
   "source": [
    "output_dir_ligands = f\"{dir}/split_ligands\"\n",
    "os.makedirs(output_dir_ligands, exist_ok=True)\n",
    "\n",
    "output_dir_decoys = f\"{dir}/split_decoys\"\n",
    "os.makedirs(output_dir_decoys, exist_ok=True)"
   ]
  },
  {
   "cell_type": "code",
   "execution_count": 7,
   "metadata": {},
   "outputs": [
    {
     "name": "stdout",
     "output_type": "stream",
     "text": [
      "Docked: ligand_001.pdbqt\n",
      "Docked: ligand_004.pdbqt\n",
      "Docked: ligand_003.pdbqt\n",
      "Docked: ligand_005.pdbqt\n",
      "Docked: ligand_002.pdbqt\n",
      "Docked: ligand_007.pdbqt\n"
     ]
    }
   ],
   "source": [
    "receptor_file = f\"{dir}/{receptor}-receptor.pdbqt\"\n",
    "output_dir = f\"{dir}/vs_results_ligands\"\n",
    "os.makedirs(output_dir, exist_ok=True)\n",
    "\n",
    "ligands = sorted([f for f in os.listdir(output_dir_ligands) if f.endswith(\".pdbqt\")])\n",
    "\n",
    "def dock(lig, input_path):\n",
    "    try:\n",
    "        lig_path = os.path.join(input_path, lig)\n",
    "        out_path = os.path.join(output_dir, lig.replace(\".pdbqt\", \"_docked.pdbqt\"))\n",
    "        \n",
    "        if not os.path.isfile(lig_path):\n",
    "            print(f\"Ligand not found: {lig_path}\")\n",
    "\n",
    "        cmd = [\n",
    "            \"vina\",\n",
    "            \"--receptor\", receptor_file,\n",
    "            \"--ligand\", lig_path,\n",
    "            \"--center_x\", \"15.190\",\n",
    "            \"--center_y\", \"53.903\",\n",
    "            \"--center_z\", \"16.917\",\n",
    "            \"--size_x\", \"20.0\",\n",
    "            \"--size_y\", \"20.0\",\n",
    "            \"--size_z\", \"20.0\",\n",
    "            \"--exhaustiveness\", \"16\",\n",
    "            \"--seed\", \"12345\",\n",
    "            \"--out\", out_path\n",
    "        ]\n",
    "\n",
    "        subprocess.run(cmd, check=True, stdout=subprocess.DEVNULL, stderr=subprocess.DEVNULL)\n",
    "        print(f\"Docked: {lig}\")\n",
    "        return f\"success: {lig}\"\n",
    "    except subprocess.CalledProcessError as e:\n",
    "        print(f\"Docking failed: {lig}\")\n",
    "        return f\"failed: {lig}\"\n",
    "    except Exception as e:\n",
    "        print(f\"Error for {lig}: {e}\")\n",
    "        return f\"failed: {lig}\"\n",
    "\n",
    "# run in parallel\n",
    "results = Parallel(n_jobs=os.cpu_count())(delayed(dock)(lig, output_dir_ligands) for lig in ligands)"
   ]
  },
  {
   "cell_type": "code",
   "execution_count": null,
   "metadata": {},
   "outputs": [],
   "source": [
    "receptor_file = f\"{dir}/{receptor}-receptor.pdbqt\"\n",
    "output_dir = f\"{dir}/vs_results_decoys\"\n",
    "os.makedirs(output_dir, exist_ok=True)\n",
    "\n",
    "ligands = sorted([f for f in os.listdir(output_dir_decoys) if f.endswith(\".pdbqt\")])\n",
    "\n",
    "results = Parallel(n_jobs=os.cpu_count())(delayed(dock)(lig, output_dir_decoys) for lig in ligands)"
   ]
  }
 ],
 "metadata": {
  "kernelspec": {
   "display_name": "vina-project",
   "language": "python",
   "name": "python3"
  },
  "language_info": {
   "codemirror_mode": {
    "name": "ipython",
    "version": 3
   },
   "file_extension": ".py",
   "mimetype": "text/x-python",
   "name": "python",
   "nbconvert_exporter": "python",
   "pygments_lexer": "ipython3",
   "version": "3.10.18"
  }
 },
 "nbformat": 4,
 "nbformat_minor": 2
}
