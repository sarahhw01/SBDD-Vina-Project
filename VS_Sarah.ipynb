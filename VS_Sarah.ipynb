{
 "cells": [
  {
   "cell_type": "code",
   "execution_count": 5,
   "metadata": {},
   "outputs": [],
   "source": [
    "# Imports\n",
    "import subprocess\n",
    "import os\n",
    "from joblib import Parallel, delayed\n",
    "import pandas as pd\n",
    "from sklearn.metrics import roc_curve, roc_auc_score\n",
    "import matplotlib.pyplot as plt"
   ]
  },
  {
   "cell_type": "code",
   "execution_count": 3,
   "metadata": {},
   "outputs": [],
   "source": [
    "dir = \"1a4g_na\"\n",
    "abbr = \"na\"\n",
    "receptor = \"1A4G\"  # prefix of the receptor file\n",
    "#!gunzip $dir/$abbr-decoys.sdf.gz\n",
    "#!gunzip $dir/$abbr-ligands.sdf.gz"
   ]
  },
  {
   "cell_type": "code",
   "execution_count": 3,
   "metadata": {},
   "outputs": [
    {
     "name": "stdout",
     "output_type": "stream",
     "text": [
      "40 molecules converted\n",
      "1200 molecules converted\n"
     ]
    }
   ],
   "source": [
    "# Create pdbqt files of ligands (true and decoy) using obabel\n",
    "!obabel $dir/$abbr-ligands.sdf -O $dir/$abbr-ligands.pdbqt\n",
    "!obabel $dir/$abbr-decoys.sdf -O $dir/$abbr-decoys.pdbqt"
   ]
  },
  {
   "cell_type": "code",
   "execution_count": 4,
   "metadata": {},
   "outputs": [],
   "source": [
    "def split_pdbqt(input_file, output_prefix):\n",
    "    \"\"\"\n",
    "    Splits a multi-model PDBQT file into individual files,\n",
    "    stripping MODEL/ENDMDL for Vina compatibility.\n",
    "    \"\"\"\n",
    "    with open(input_file, 'r') as file:\n",
    "        lines = file.readlines()\n",
    "\n",
    "    model = []\n",
    "    model_count = 0\n",
    "    inside_model = False\n",
    "\n",
    "    for line in lines:\n",
    "        if line.startswith(\"MODEL\"):\n",
    "            inside_model = True\n",
    "            model = []\n",
    "        elif line.startswith(\"ENDMDL\"):\n",
    "            inside_model = False\n",
    "            # Write model to file\n",
    "            output_file = f\"{output_prefix}_{model_count:03d}.pdbqt\"\n",
    "            with open(output_file, \"w\") as out:\n",
    "                out.writelines(model)\n",
    "            model_count += 1\n",
    "        elif inside_model:\n",
    "            model.append(line)\n",
    "\n",
    "    print(f\"Saved {model_count} ligand files to {output_prefix}_*.pdbqt\")\n",
    "\n",
    "\n",
    "# Example usage\n",
    "def split_ligands_and_decoys(dir, abbr):\n",
    "    output_dir_ligands = os.path.join(dir, \"split_ligands\")\n",
    "    output_dir_decoys = os.path.join(dir, \"split_decoys\")\n",
    "    os.makedirs(output_dir_ligands, exist_ok=True)\n",
    "    os.makedirs(output_dir_decoys, exist_ok=True)\n",
    "\n",
    "    input_ligands = os.path.join(dir, f\"{abbr}-ligands.pdbqt\")\n",
    "    input_decoys = os.path.join(dir, f\"{abbr}-decoys.pdbqt\")\n",
    "\n",
    "    split_pdbqt(input_ligands, os.path.join(output_dir_ligands, \"ligand\"))\n",
    "    split_pdbqt(input_decoys, os.path.join(output_dir_decoys, \"decoy\"))\n"
   ]
  },
  {
   "cell_type": "code",
   "execution_count": 5,
   "metadata": {},
   "outputs": [
    {
     "name": "stdout",
     "output_type": "stream",
     "text": [
      "Saved 40 ligand files to 1a4g_na/split_ligands/ligand_*.pdbqt\n",
      "Saved 1200 ligand files to 1a4g_na/split_decoys/decoy_*.pdbqt\n"
     ]
    }
   ],
   "source": [
    "split_ligands_and_decoys(dir, abbr)"
   ]
  },
  {
   "cell_type": "code",
   "execution_count": 7,
   "metadata": {},
   "outputs": [],
   "source": [
    "output_dir_ligands = f\"{dir}/split_ligands\"\n",
    "os.makedirs(output_dir_ligands, exist_ok=True)\n",
    "\n",
    "output_dir_decoys = f\"{dir}/split_decoys\"\n",
    "os.makedirs(output_dir_decoys, exist_ok=True)"
   ]
  },
  {
   "cell_type": "code",
   "execution_count": 12,
   "metadata": {},
   "outputs": [
    {
     "name": "stdout",
     "output_type": "stream",
     "text": [
      "Center X:  -2.863 Center Y:  56.1055 Center Z:  -8.5645\n",
      "Size X:  13.55 Size Y:  10.185000000000002 Size Z:  11.503\n"
     ]
    }
   ],
   "source": [
    "# in Pymol we get the bounding box of the chosen ligand like this: get_extent ligand_ZMR\n",
    "# This gives us the min values and max values for x, y, z, from these compute the box centers for docking\n",
    "min = {'x': -7.638, 'y': 53.013, 'z': -12.316}\n",
    "max = {'x': 1.912, 'y': 59.198, 'z': -4.813}\n",
    "\n",
    "# calc box center and size\n",
    "center_x = (min['x'] + max['x']) / 2\n",
    "center_y = (min['y'] + max['y']) / 2\n",
    "center_z = (min['z'] + max['z']) / 2\n",
    "\n",
    "# calc box size\n",
    "size_x = (max['x'] - min['x']) + 4\n",
    "size_y = (max['y'] - min['y']) + 4\n",
    "size_z = (max['z'] - min['z']) + 4\n",
    "\n",
    "print(\"Center X: \", center_x, \"Center Y: \", center_y, \"Center Z: \", center_z)\n",
    "print(\"Size X: \", size_x, \"Size Y: \", size_y, \"Size Z: \", size_z)"
   ]
  },
  {
   "cell_type": "code",
   "execution_count": 13,
   "metadata": {},
   "outputs": [
    {
     "name": "stdout",
     "output_type": "stream",
     "text": [
      "Docked: ligand_001.pdbqt\n",
      "Docked: ligand_003.pdbqt\n",
      "Docked: ligand_002.pdbqt\n",
      "Docked: ligand_005.pdbqt\n",
      "Docked: ligand_004.pdbqt\n",
      "Docked: ligand_007.pdbqt\n",
      "Docked: ligand_000.pdbqt\n",
      "Docked: ligand_012.pdbqt\n",
      "Docked: ligand_010.pdbqt\n",
      "Docked: ligand_008.pdbqt\n",
      "Docked: ligand_014.pdbqt\n",
      "Docked: ligand_011.pdbqt\n",
      "Docked: ligand_006.pdbqt\n",
      "Docked: ligand_013.pdbqt\n",
      "Docked: ligand_017.pdbqt\n",
      "Docked: ligand_018.pdbqt\n",
      "Docked: ligand_009.pdbqt\n",
      "Docked: ligand_023.pdbqt\n",
      "Docked: ligand_024.pdbqt\n",
      "Docked: ligand_020.pdbqt\n",
      "Docked: ligand_025.pdbqt\n",
      "Docked: ligand_015.pdbqt\n"
     ]
    }
   ],
   "source": [
    "receptor_file = f\"{dir}/{receptor}-receptor.pdbqt\"\n",
    "output_dir = f\"{dir}/vs_results_ligands\"\n",
    "os.makedirs(output_dir, exist_ok=True)\n",
    "\n",
    "ligands = sorted([f for f in os.listdir(output_dir_ligands) if f.endswith(\".pdbqt\")])\n",
    "\n",
    "def dock(lig, input_path):\n",
    "    try:\n",
    "        lig_path = os.path.join(input_path, lig)\n",
    "        out_path = os.path.join(output_dir, lig.replace(\".pdbqt\", \"_docked.pdbqt\"))\n",
    "        \n",
    "        if not os.path.isfile(lig_path):\n",
    "            print(f\"Ligand not found: {lig_path}\")\n",
    "\n",
    "        cmd = [\n",
    "            \"vina\",\n",
    "            \"--receptor\", receptor_file,\n",
    "            \"--ligand\", lig_path,\n",
    "            \"--center_x\", str(center_x),  # specify box center coordinates (float)\n",
    "            \"--center_y\", str(center_y),\n",
    "            \"--center_z\", str(center_z),\n",
    "            \"--size_x\", str(size_x),\n",
    "            \"--size_y\", str(size_y),\n",
    "            \"--size_z\", str(size_z),\n",
    "            \"--exhaustiveness\", \"16\",\n",
    "            \"--seed\", \"12345\",\n",
    "            \"--out\", out_path\n",
    "        ]\n",
    "\n",
    "        subprocess.run(cmd, check=True, stdout=subprocess.DEVNULL, stderr=subprocess.DEVNULL)\n",
    "        print(f\"Docked: {lig}\")\n",
    "        return f\"success: {lig}\"\n",
    "    except subprocess.CalledProcessError as e:\n",
    "        print(f\"Docking failed: {lig}\")\n",
    "        return f\"failed: {lig}\"\n",
    "    except Exception as e:\n",
    "        print(f\"Error for {lig}: {e}\")\n",
    "        return f\"failed: {lig}\"\n",
    "\n",
    "# run in parallel\n",
    "results = Parallel(n_jobs=os.cpu_count())(delayed(dock)(lig, output_dir_ligands) for lig in ligands)"
   ]
  },
  {
   "cell_type": "code",
   "execution_count": null,
   "metadata": {},
   "outputs": [
    {
     "name": "stdout",
     "output_type": "stream",
     "text": [
      "Docked: decoy_004.pdbqt\n",
      "Docked: decoy_003.pdbqt\n",
      "Docked: decoy_002.pdbqt\n",
      "Docked: decoy_000.pdbqt\n",
      "Docked: decoy_006.pdbqt\n",
      "Docked: decoy_001.pdbqt\n",
      "Docked: decoy_007.pdbqt\n",
      "Docked: decoy_005.pdbqt\n",
      "Docked: decoy_008.pdbqt\n",
      "Docked: decoy_013.pdbqt\n",
      "Docked: decoy_012.pdbqt\n",
      "Docked: decoy_014.pdbqt\n",
      "Docked: decoy_009.pdbqt\n",
      "Docked: decoy_015.pdbqt\n",
      "Docked: decoy_010.pdbqt\n",
      "Docked: decoy_011.pdbqt\n",
      "Docked: decoy_016.pdbqt\n",
      "Docked: decoy_017.pdbqt\n",
      "Docked: decoy_023.pdbqt\n",
      "Docked: decoy_019.pdbqt\n",
      "Docked: decoy_021.pdbqt\n",
      "Docked: decoy_020.pdbqt\n",
      "Docked: decoy_018.pdbqt\n",
      "Docked: decoy_022.pdbqt\n",
      "Docked: decoy_024.pdbqt\n",
      "Docked: decoy_025.pdbqt\n",
      "Docked: decoy_026.pdbqt\n",
      "Docked: decoy_027.pdbqt\n"
     ]
    },
    {
     "ename": "KeyboardInterrupt",
     "evalue": "",
     "output_type": "error",
     "traceback": [
      "\u001b[0;31m---------------------------------------------------------------------------\u001b[0m",
      "\u001b[0;31mKeyboardInterrupt\u001b[0m                         Traceback (most recent call last)",
      "\u001b[1;32m/Users/sarah.hw01/Documents/Master/SS25/SBDD/Project/SBDD-Vina-Project/VS_Sarah.ipynb Zelle 8\u001b[0m line \u001b[0;36m7\n\u001b[1;32m      <a href='vscode-notebook-cell:/Users/sarah.hw01/Documents/Master/SS25/SBDD/Project/SBDD-Vina-Project/VS_Sarah.ipynb#X10sZmlsZQ%3D%3D?line=2'>3</a>\u001b[0m os\u001b[39m.\u001b[39mmakedirs(output_dir, exist_ok\u001b[39m=\u001b[39m\u001b[39mTrue\u001b[39;00m)\n\u001b[1;32m      <a href='vscode-notebook-cell:/Users/sarah.hw01/Documents/Master/SS25/SBDD/Project/SBDD-Vina-Project/VS_Sarah.ipynb#X10sZmlsZQ%3D%3D?line=4'>5</a>\u001b[0m ligands \u001b[39m=\u001b[39m \u001b[39msorted\u001b[39m([f \u001b[39mfor\u001b[39;00m f \u001b[39min\u001b[39;00m os\u001b[39m.\u001b[39mlistdir(output_dir_decoys) \u001b[39mif\u001b[39;00m f\u001b[39m.\u001b[39mendswith(\u001b[39m\"\u001b[39m\u001b[39m.pdbqt\u001b[39m\u001b[39m\"\u001b[39m)])\n\u001b[0;32m----> <a href='vscode-notebook-cell:/Users/sarah.hw01/Documents/Master/SS25/SBDD/Project/SBDD-Vina-Project/VS_Sarah.ipynb#X10sZmlsZQ%3D%3D?line=6'>7</a>\u001b[0m results \u001b[39m=\u001b[39m Parallel(n_jobs\u001b[39m=\u001b[39;49mos\u001b[39m.\u001b[39;49mcpu_count())(delayed(dock)(lig, output_dir_decoys) \u001b[39mfor\u001b[39;49;00m lig \u001b[39min\u001b[39;49;00m ligands)\n",
      "File \u001b[0;32m/opt/anaconda3/envs/vina-project/lib/python3.10/site-packages/joblib/parallel.py:2072\u001b[0m, in \u001b[0;36mParallel.__call__\u001b[0;34m(self, iterable)\u001b[0m\n\u001b[1;32m   2066\u001b[0m \u001b[39m# The first item from the output is blank, but it makes the interpreter\u001b[39;00m\n\u001b[1;32m   2067\u001b[0m \u001b[39m# progress until it enters the Try/Except block of the generator and\u001b[39;00m\n\u001b[1;32m   2068\u001b[0m \u001b[39m# reaches the first `yield` statement. This starts the asynchronous\u001b[39;00m\n\u001b[1;32m   2069\u001b[0m \u001b[39m# dispatch of the tasks to the workers.\u001b[39;00m\n\u001b[1;32m   2070\u001b[0m \u001b[39mnext\u001b[39m(output)\n\u001b[0;32m-> 2072\u001b[0m \u001b[39mreturn\u001b[39;00m output \u001b[39mif\u001b[39;00m \u001b[39mself\u001b[39m\u001b[39m.\u001b[39mreturn_generator \u001b[39melse\u001b[39;00m \u001b[39mlist\u001b[39;49m(output)\n",
      "File \u001b[0;32m/opt/anaconda3/envs/vina-project/lib/python3.10/site-packages/joblib/parallel.py:1682\u001b[0m, in \u001b[0;36mParallel._get_outputs\u001b[0;34m(self, iterator, pre_dispatch)\u001b[0m\n\u001b[1;32m   1679\u001b[0m     \u001b[39myield\u001b[39;00m\n\u001b[1;32m   1681\u001b[0m     \u001b[39mwith\u001b[39;00m \u001b[39mself\u001b[39m\u001b[39m.\u001b[39m_backend\u001b[39m.\u001b[39mretrieval_context():\n\u001b[0;32m-> 1682\u001b[0m         \u001b[39myield from\u001b[39;00m \u001b[39mself\u001b[39m\u001b[39m.\u001b[39m_retrieve()\n\u001b[1;32m   1684\u001b[0m \u001b[39mexcept\u001b[39;00m \u001b[39mGeneratorExit\u001b[39;00m:\n\u001b[1;32m   1685\u001b[0m     \u001b[39m# The generator has been garbage collected before being fully\u001b[39;00m\n\u001b[1;32m   1686\u001b[0m     \u001b[39m# consumed. This aborts the remaining tasks if possible and warn\u001b[39;00m\n\u001b[1;32m   1687\u001b[0m     \u001b[39m# the user if necessary.\u001b[39;00m\n\u001b[1;32m   1688\u001b[0m     \u001b[39mself\u001b[39m\u001b[39m.\u001b[39m_exception \u001b[39m=\u001b[39m \u001b[39mTrue\u001b[39;00m\n",
      "File \u001b[0;32m/opt/anaconda3/envs/vina-project/lib/python3.10/site-packages/joblib/parallel.py:1800\u001b[0m, in \u001b[0;36mParallel._retrieve\u001b[0;34m(self)\u001b[0m\n\u001b[1;32m   1789\u001b[0m \u001b[39mif\u001b[39;00m \u001b[39mself\u001b[39m\u001b[39m.\u001b[39mreturn_ordered:\n\u001b[1;32m   1790\u001b[0m     \u001b[39m# Case ordered: wait for completion (or error) of the next job\u001b[39;00m\n\u001b[1;32m   1791\u001b[0m     \u001b[39m# that have been dispatched and not retrieved yet. If no job\u001b[39;00m\n\u001b[0;32m   (...)\u001b[0m\n\u001b[1;32m   1795\u001b[0m     \u001b[39m# control only have to be done on the amount of time the next\u001b[39;00m\n\u001b[1;32m   1796\u001b[0m     \u001b[39m# dispatched job is pending.\u001b[39;00m\n\u001b[1;32m   1797\u001b[0m     \u001b[39mif\u001b[39;00m (nb_jobs \u001b[39m==\u001b[39m \u001b[39m0\u001b[39m) \u001b[39mor\u001b[39;00m (\n\u001b[1;32m   1798\u001b[0m         \u001b[39mself\u001b[39m\u001b[39m.\u001b[39m_jobs[\u001b[39m0\u001b[39m]\u001b[39m.\u001b[39mget_status(timeout\u001b[39m=\u001b[39m\u001b[39mself\u001b[39m\u001b[39m.\u001b[39mtimeout) \u001b[39m==\u001b[39m TASK_PENDING\n\u001b[1;32m   1799\u001b[0m     ):\n\u001b[0;32m-> 1800\u001b[0m         time\u001b[39m.\u001b[39;49msleep(\u001b[39m0.01\u001b[39;49m)\n\u001b[1;32m   1801\u001b[0m         \u001b[39mcontinue\u001b[39;00m\n\u001b[1;32m   1803\u001b[0m \u001b[39melif\u001b[39;00m nb_jobs \u001b[39m==\u001b[39m \u001b[39m0\u001b[39m:\n\u001b[1;32m   1804\u001b[0m     \u001b[39m# Case unordered: jobs are added to the list of jobs to\u001b[39;00m\n\u001b[1;32m   1805\u001b[0m     \u001b[39m# retrieve `self._jobs` only once completed or in error, which\u001b[39;00m\n\u001b[0;32m   (...)\u001b[0m\n\u001b[1;32m   1811\u001b[0m     \u001b[39m# timeouts before any other dispatched job has completed and\u001b[39;00m\n\u001b[1;32m   1812\u001b[0m     \u001b[39m# been added to `self._jobs` to be retrieved.\u001b[39;00m\n",
      "\u001b[0;31mKeyboardInterrupt\u001b[0m: "
     ]
    }
   ],
   "source": [
    "receptor_file = f\"{dir}/{receptor}-receptor.pdbqt\"\n",
    "output_dir = f\"{dir}/vs_results_decoys\"\n",
    "os.makedirs(output_dir, exist_ok=True)\n",
    "\n",
    "ligands = sorted([f for f in os.listdir(output_dir_decoys) if f.endswith(\".pdbqt\")])\n",
    "\n",
    "results = Parallel(n_jobs=os.cpu_count())(delayed(dock)(lig, output_dir_decoys) for lig in ligands)"
   ]
  },
  {
   "cell_type": "code",
   "execution_count": null,
   "metadata": {},
   "outputs": [],
   "source": [
    "# Function to extract the binding affinity of the energetically most favorable candidate from the vina_docked file\n",
    "def extract_top_score(vina_pdbqt_path):\n",
    "    with open(vina_pdbqt_path) as f:\n",
    "        for line in f:\n",
    "            if line.startswith('REMARK VINA RESULT:'):\n",
    "                parts = line.strip().split()\n",
    "                if len(parts) >= 4:\n",
    "                    return float(parts[3])\n",
    "        return None # if there is a problem (no score found)"
   ]
  },
  {
   "cell_type": "code",
   "execution_count": null,
   "metadata": {},
   "outputs": [],
   "source": [
    "# merge docking results (score) into one dataframe with label (ligand/decoy)\n",
    "results_dir = f\"{dir}/vs_results_ligands\"\n",
    "data = []\n",
    "\n",
    "# store info of ligands\n",
    "for file in os.listdir(results_dir):\n",
    "    if file.endswith(\"_docked.pdbqt\"):\n",
    "        path = os.path.join(results_dir, file)\n",
    "        score = extract_top_score(path)\n",
    "        ligand_id = file.replace(\"_docked.pdbqt\", \"\")\n",
    "        data.append({\"molecule\": f\"ligand_{ligand_id}\", \"score\": score, \"label\": 1})\n",
    "\n",
    "# store info of decoys\n",
    "results_dir = f\"{dir}/vs_results_decoys\"\n",
    "\n",
    "for file in os.listdir(results_dir):\n",
    "    if file.endswith(\"_docked.pdbqt\"):\n",
    "        path = os.path.join(results_dir, file)\n",
    "        score = extract_top_score(path)\n",
    "        ligand_id = file.replace(\"_docked.pdbqt\", \"\")\n",
    "        data.append({\"molecule\": f\"decoy_{ligand_id}\", \"score\": score, \"label\": 0})\n",
    "\n",
    "# store merged info\n",
    "df = pd.DataFrame(data)"
   ]
  },
  {
   "cell_type": "code",
   "execution_count": null,
   "metadata": {},
   "outputs": [],
   "source": [
    "# calculate ROC and AUC\n",
    "# invert score as negative scores are better\n",
    "df[\"score_inv\"] = -df[\"score\"] \n",
    "\n",
    "#df['scaled_score'] = (df['score_inv'] - df['score_inv'].min()) / (df['score_inv'].max() - df['score_inv'].min())\n",
    "\n",
    "# calculate fpr, tpr at varying thresholds\n",
    "fpr, tpr, thresholds = roc_curve(df[\"label\"], df[\"score_inv\"])\n",
    "\n",
    "# calculate auc \n",
    "auc = roc_auc_score(df[\"label\"], df[\"score_inv\"])\n",
    "\n",
    "# plot ROC\n",
    "plt.plot(fpr, tpr, label=f\"AUC = {auc:.3f}\")\n",
    "plt.plot([0,1], [0,1], \"--\", color=\"gray\")\n",
    "plt.xlabel(\"False Positive Rate\", fontsize = 16)\n",
    "plt.ylabel(\"True Positive Rate\", fontsize = 16)\n",
    "plt.legend(fontsize = 16)\n",
    "plt.grid(True)\n",
    "plt.savefig(f\"{dir}/ROC.png\")\n",
    "plt.show()"
   ]
  }
 ],
 "metadata": {
  "kernelspec": {
   "display_name": "vina-project",
   "language": "python",
   "name": "python3"
  },
  "language_info": {
   "codemirror_mode": {
    "name": "ipython",
    "version": 3
   },
   "file_extension": ".py",
   "mimetype": "text/x-python",
   "name": "python",
   "nbconvert_exporter": "python",
   "pygments_lexer": "ipython3",
   "version": "3.10.18"
  }
 },
 "nbformat": 4,
 "nbformat_minor": 2
}
