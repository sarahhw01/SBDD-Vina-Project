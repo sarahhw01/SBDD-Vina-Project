{
 "cells": [
  {
   "cell_type": "code",
   "execution_count": 1,
   "metadata": {},
   "outputs": [],
   "source": [
    "# Imports\n",
    "import subprocess\n",
    "import os\n",
    "from joblib import Parallel, delayed\n",
    "import pandas as pd\n",
    "from sklearn.metrics import roc_curve, roc_auc_score\n",
    "import matplotlib.pyplot as plt"
   ]
  },
  {
   "cell_type": "code",
   "execution_count": 4,
   "metadata": {},
   "outputs": [],
   "source": [
    "# Unpack zipped files for the defined protein\n",
    "dir = \"1ouk_p38-alpha\"\n",
    "abbr = \"p38\"\n",
    "receptor = \"1OUK\"  # prefix of the receptor file\n",
    "#!gunzip $dir/$abbr-decoys.sdf.gz\n",
    "#!gunzip $dir/$abbr-ligands.sdf.gz"
   ]
  },
  {
   "cell_type": "code",
   "execution_count": 14,
   "metadata": {},
   "outputs": [
    {
     "name": "stdout",
     "output_type": "stream",
     "text": [
      "1 molecule converted\n",
      "1 molecule converted\n"
     ]
    }
   ],
   "source": [
    "# Create pdbqt files of receptor and ligand using obabel\n",
    "!obabel $dir/$receptor-receptor.pdb -xr -O $dir/$receptor-receptor.pdbqt\n",
    "!obabel $dir/$receptor-084.pdb -O $dir/$receptor-084.pdbqt"
   ]
  },
  {
   "cell_type": "code",
   "execution_count": 5,
   "metadata": {},
   "outputs": [
    {
     "name": "stdout",
     "output_type": "stream",
     "text": [
      "40 molecules converted\n",
      "1200 molecules converted\n"
     ]
    }
   ],
   "source": [
    "# Create pdbqt files of ligands (true and decoy) using obabel\n",
    "!obabel $dir/$abbr-ligands.sdf -O $dir/$abbr-ligands.pdbqt\n",
    "!obabel $dir/$abbr-decoys.sdf -O $dir/$abbr-decoys.pdbqt"
   ]
  },
  {
   "cell_type": "code",
   "execution_count": 6,
   "metadata": {},
   "outputs": [],
   "source": [
    "# Manually Splits a pdbqt file into the individual models and writes each model into an individual pdbqt file\n",
    "def split_pdbqt(input_file, output_prefix):\n",
    "    with open(input_file, 'r') as file:\n",
    "        lines = file.readlines()\n",
    "\n",
    "    model = []\n",
    "    model_count = 0\n",
    "    inside_model = False\n",
    "\n",
    "    for line in lines:\n",
    "        if line.startswith(\"MODEL\"):\n",
    "            inside_model = True\n",
    "            model = []\n",
    "        elif line.startswith(\"ENDMDL\"):\n",
    "            inside_model = False\n",
    "            # Write model to file\n",
    "            output_file = f\"{output_prefix}_{model_count:03d}.pdbqt\"\n",
    "            with open(output_file, \"w\") as out:\n",
    "                out.writelines(model)\n",
    "            model_count += 1\n",
    "        elif inside_model:\n",
    "            model.append(line)\n",
    "\n",
    "    print(f\"Saved {model_count} ligand files to {output_prefix}_*.pdbqt\")\n",
    "\n",
    "\n",
    "# Use the splitting function for the ligands and the decoys\n",
    "def split_ligands_and_decoys(dir, abbr):\n",
    "    output_dir_ligands = os.path.join(dir, \"split_ligands\")\n",
    "    output_dir_decoys = os.path.join(dir, \"split_decoys\")\n",
    "    os.makedirs(output_dir_ligands, exist_ok=True)\n",
    "    os.makedirs(output_dir_decoys, exist_ok=True)\n",
    "\n",
    "    input_ligands = os.path.join(dir, f\"{abbr}-ligands.pdbqt\")\n",
    "    input_decoys = os.path.join(dir, f\"{abbr}-decoys.pdbqt\")\n",
    "\n",
    "    split_pdbqt(input_ligands, os.path.join(output_dir_ligands, \"ligand\"))\n",
    "    split_pdbqt(input_decoys, os.path.join(output_dir_decoys, \"decoy\"))"
   ]
  },
  {
   "cell_type": "code",
   "execution_count": 7,
   "metadata": {},
   "outputs": [
    {
     "name": "stdout",
     "output_type": "stream",
     "text": [
      "Saved 40 ligand files to 1ouk_p38-alpha/split_ligands/ligand_*.pdbqt\n",
      "Saved 1200 ligand files to 1ouk_p38-alpha/split_decoys/decoy_*.pdbqt\n"
     ]
    }
   ],
   "source": [
    "# Splitting of the ligand and decoy data\n",
    "split_ligands_and_decoys(dir, abbr)"
   ]
  },
  {
   "cell_type": "code",
   "execution_count": 8,
   "metadata": {},
   "outputs": [],
   "source": [
    "output_dir_ligands = f\"{dir}/split_ligands\"\n",
    "os.makedirs(output_dir_ligands, exist_ok=True)\n",
    "\n",
    "output_dir_decoys = f\"{dir}/split_decoys\"\n",
    "os.makedirs(output_dir_decoys, exist_ok=True)"
   ]
  },
  {
   "cell_type": "code",
   "execution_count": 9,
   "metadata": {},
   "outputs": [
    {
     "name": "stdout",
     "output_type": "stream",
     "text": [
      "Center X:  44.322 Center Y:  32.455999999999996 Center Z:  31.636\n",
      "Size X:  17.016 Size Y:  16.285999999999998 Size Z:  9.283999999999999\n"
     ]
    }
   ],
   "source": [
    "# in Pymol we get the bounding box of the chosen ligand like this: get_extent 1OUK-084\n",
    "# This gives us the min values and max values for x, y, z, from these compute the box centers for docking\n",
    "min = {'x': 37.814, 'y': 26.313, 'z': 28.994} \n",
    "max = {'x': 50.830, 'y': 38.599, 'z': 34.278}\n",
    "\n",
    "# calc box center and size\n",
    "center_x = (min['x'] + max['x']) / 2\n",
    "center_y = (min['y'] + max['y']) / 2\n",
    "center_z = (min['z'] + max['z']) / 2\n",
    "\n",
    "# calc box size\n",
    "size_x = (max['x'] - min['x']) + 4\n",
    "size_y = (max['y'] - min['y']) + 4\n",
    "size_z = (max['z'] - min['z']) + 4\n",
    "\n",
    "print(\"Center X: \", center_x, \"Center Y: \", center_y, \"Center Z: \", center_z)\n",
    "print(\"Size X: \", size_x, \"Size Y: \", size_y, \"Size Z: \", size_z)"
   ]
  },
  {
   "cell_type": "code",
   "execution_count": 15,
   "metadata": {},
   "outputs": [
    {
     "name": "stdout",
     "output_type": "stream",
     "text": [
      "1ouk_p38-alpha/1OUK-receptor.pdbqt\n",
      "Docked: ligand_004.pdbqt\n",
      "Docked: ligand_003.pdbqt\n",
      "Docked: ligand_001.pdbqt\n",
      "Docked: ligand_006.pdbqt\n",
      "Docked: ligand_007.pdbqt\n",
      "Docked: ligand_000.pdbqt\n",
      "Docked: ligand_008.pdbqt\n",
      "Docked: ligand_011.pdbqt\n",
      "Docked: ligand_012.pdbqt\n",
      "Docked: ligand_013.pdbqt\n",
      "Docked: ligand_014.pdbqt\n",
      "Docked: ligand_009.pdbqt\n",
      "Docked: ligand_002.pdbqt\n",
      "Docked: ligand_016.pdbqt\n",
      "Docked: ligand_018.pdbqt\n",
      "Docked: ligand_015.pdbqt\n",
      "Docked: ligand_022.pdbqt\n",
      "Docked: ligand_021.pdbqt\n",
      "Docked: ligand_005.pdbqt\n",
      "Docked: ligand_025.pdbqt\n",
      "Docked: ligand_023.pdbqt\n",
      "Docked: ligand_010.pdbqt\n",
      "Docked: ligand_024.pdbqt\n",
      "Docked: ligand_026.pdbqt\n",
      "Docked: ligand_027.pdbqt\n",
      "Docked: ligand_028.pdbqt\n",
      "Docked: ligand_030.pdbqt\n",
      "Docked: ligand_029.pdbqt\n",
      "Docked: ligand_031.pdbqt\n",
      "Docked: ligand_033.pdbqt\n",
      "Docked: ligand_032.pdbqt\n",
      "Docked: ligand_020.pdbqt\n",
      "Docked: ligand_017.pdbqt\n",
      "Docked: ligand_036.pdbqt\n",
      "Docked: ligand_038.pdbqt\n",
      "Docked: ligand_039.pdbqt\n",
      "Docked: ligand_034.pdbqt\n",
      "Docked: ligand_035.pdbqt\n",
      "Docked: ligand_019.pdbqt\n",
      "Docked: ligand_037.pdbqt\n"
     ]
    }
   ],
   "source": [
    "receptor_file = f\"{dir}/{receptor}-receptor.pdbqt\"\n",
    "output_dir = f\"{dir}/vs_results_ligands\"\n",
    "os.makedirs(output_dir, exist_ok=True)\n",
    "\n",
    "ligands = sorted([f for f in os.listdir(output_dir_ligands) if f.endswith(\".pdbqt\")])\n",
    "\n",
    "def dock(lig, input_path):\n",
    "    try:\n",
    "        lig_path = os.path.join(input_path, lig)\n",
    "        out_path = os.path.join(output_dir, lig.replace(\".pdbqt\", \"_docked.pdbqt\"))\n",
    "        \n",
    "        if not os.path.isfile(lig_path):\n",
    "            print(f\"Ligand not found: {lig_path}\")\n",
    "\n",
    "        cmd = [\n",
    "            \"vina\",\n",
    "            \"--receptor\", receptor_file,\n",
    "            \"--ligand\", lig_path,\n",
    "            \"--center_x\", str(center_x),  # specify box center coordinates (float)\n",
    "            \"--center_y\", str(center_y),\n",
    "            \"--center_z\", str(center_z),\n",
    "            \"--size_x\", str(size_x),\n",
    "            \"--size_y\", str(size_y),\n",
    "            \"--size_z\", str(size_z),\n",
    "            \"--exhaustiveness\", \"16\",\n",
    "            \"--seed\", \"12345\",\n",
    "            \"--out\", out_path\n",
    "        ]\n",
    "\n",
    "        subprocess.run(cmd, check=True, stdout=subprocess.DEVNULL, stderr=subprocess.DEVNULL)\n",
    "        print(f\"Docked: {lig}\")\n",
    "        return f\"success: {lig}\"\n",
    "    except subprocess.CalledProcessError as e:\n",
    "        print(f\"Docking failed: {lig}\")\n",
    "        return f\"failed: {lig}\"\n",
    "    except Exception as e:\n",
    "        print(f\"Error for {lig}: {e}\")\n",
    "        return f\"failed: {lig}\"\n",
    "\n",
    "# run in parallel for ligands\n",
    "results = Parallel(n_jobs=os.cpu_count())(delayed(dock)(lig, output_dir_ligands) for lig in ligands)"
   ]
  },
  {
   "cell_type": "code",
   "execution_count": null,
   "metadata": {},
   "outputs": [],
   "source": [
    "# Do docking for all decoys\n",
    "receptor_file = f\"{dir}/{receptor}-receptor.pdbqt\"\n",
    "output_dir = f\"{dir}/vs_results_decoys\"\n",
    "os.makedirs(output_dir, exist_ok=True)\n",
    "\n",
    "ligands = sorted([f for f in os.listdir(output_dir_decoys) if f.endswith(\".pdbqt\")])\n",
    "\n",
    "results = Parallel(n_jobs=os.cpu_count())(delayed(dock)(lig, output_dir_decoys) for lig in ligands)"
   ]
  },
  {
   "cell_type": "code",
   "execution_count": null,
   "metadata": {},
   "outputs": [],
   "source": [
    "# Function to extract the binding affinity of the energetically most favorable candidate from the vina_docked file\n",
    "def extract_top_score(vina_pdbqt_path):\n",
    "    with open(vina_pdbqt_path) as f:\n",
    "        for line in f:\n",
    "            if line.startswith('REMARK VINA RESULT:'):\n",
    "                parts = line.strip().split()\n",
    "                if len(parts) >= 4:\n",
    "                    return float(parts[3])\n",
    "        return None # if there is a problem (no score found)"
   ]
  },
  {
   "cell_type": "code",
   "execution_count": null,
   "metadata": {},
   "outputs": [],
   "source": [
    "# merge docking results (score) into one dataframe with label (ligand/decoy)\n",
    "results_dir = f\"{dir}/vs_results_ligands\"\n",
    "data = []\n",
    "\n",
    "# store info of ligands\n",
    "for file in os.listdir(results_dir):\n",
    "    if file.endswith(\"_docked.pdbqt\"):\n",
    "        path = os.path.join(results_dir, file)\n",
    "        score = extract_top_score(path)\n",
    "        ligand_id = file.replace(\"_docked.pdbqt\", \"\")\n",
    "        data.append({\"molecule\": f\"ligand_{ligand_id}\", \"score\": score, \"label\": 1})\n",
    "\n",
    "# store info of decoys\n",
    "results_dir = f\"{dir}/vs_results_decoys\"\n",
    "\n",
    "for file in os.listdir(results_dir):\n",
    "    if file.endswith(\"_docked.pdbqt\"):\n",
    "        path = os.path.join(results_dir, file)\n",
    "        score = extract_top_score(path)\n",
    "        ligand_id = file.replace(\"_docked.pdbqt\", \"\")\n",
    "        data.append({\"molecule\": f\"decoy_{ligand_id}\", \"score\": score, \"label\": 0})\n",
    "\n",
    "# store merged info\n",
    "df = pd.DataFrame(data)"
   ]
  },
  {
   "cell_type": "code",
   "execution_count": null,
   "metadata": {},
   "outputs": [],
   "source": [
    "# calculate ROC and AUC\n",
    "# invert score as negative scores are better\n",
    "df[\"score_inv\"] = -df[\"score\"] \n",
    "\n",
    "#df['scaled_score'] = (df['score_inv'] - df['score_inv'].min()) / (df['score_inv'].max() - df['score_inv'].min())\n",
    "\n",
    "# calculate fpr, tpr at varying thresholds\n",
    "fpr, tpr, thresholds = roc_curve(df[\"label\"], df[\"score_inv\"])\n",
    "\n",
    "# calculate auc \n",
    "auc = roc_auc_score(df[\"label\"], df[\"score_inv\"])\n",
    "\n",
    "# plot ROC\n",
    "plt.plot(fpr, tpr, label=f\"AUC = {auc:.3f}\")\n",
    "plt.plot([0,1], [0,1], \"--\", color=\"gray\")\n",
    "plt.xlabel(\"False Positive Rate\", fontsize = 16)\n",
    "plt.ylabel(\"True Positive Rate\", fontsize = 16)\n",
    "plt.legend(fontsize = 16)\n",
    "plt.grid(True)\n",
    "plt.savefig(f\"{dir}/ROC.png\")\n",
    "plt.show()"
   ]
  }
 ],
 "metadata": {
  "kernelspec": {
   "display_name": "vina-project",
   "language": "python",
   "name": "python3"
  },
  "language_info": {
   "codemirror_mode": {
    "name": "ipython",
    "version": 3
   },
   "file_extension": ".py",
   "mimetype": "text/x-python",
   "name": "python",
   "nbconvert_exporter": "python",
   "pygments_lexer": "ipython3",
   "version": "3.10.18"
  }
 },
 "nbformat": 4,
 "nbformat_minor": 2
}
