{
 "cells": [
  {
   "cell_type": "code",
   "execution_count": 3,
   "metadata": {
    "is_executing": true
   },
   "outputs": [],
   "source": [
    "# Imports\n",
    "import subprocess\n",
    "import os\n",
    "from joblib import Parallel, delayed\n",
    "import pandas as pd\n",
    "from sklearn.metrics import roc_curve, roc_auc_score\n",
    "import matplotlib.pyplot as plt"
   ]
  },
  {
   "cell_type": "code",
   "execution_count": 8,
   "metadata": {
    "ExecuteTime": {
     "end_time": "2025-07-09T19:53:16.718601Z",
     "start_time": "2025-07-09T19:53:16.717142Z"
    }
   },
   "outputs": [
    {
     "name": "stdout",
     "output_type": "stream",
     "text": [
      "gunzip: invalid option -- y\n",
      "Apple gzip 448.80.1\n",
      "usage: gunzip [-123456789acdfhklLNnqrtVv] [-S .suffix] [<file> [<file> ...]]\n",
      " -1 --fast            fastest (worst) compression\n",
      " -2 .. -8             set compression level\n",
      " -9 --best            best (slowest) compression\n",
      " -c --stdout          write to stdout, keep original files\n",
      "    --to-stdout\n",
      " -d --decompress      uncompress files\n",
      "    --uncompress\n",
      " -f --force           force overwriting & compress links\n",
      " -h --help            display this help\n",
      " -k --keep            don't delete input files during operation\n",
      " -l --list            list compressed file contents\n",
      " -N --name            save or restore original file name and time stamp\n",
      " -n --no-name         don't save original file name or time stamp\n",
      " -q --quiet           output no warnings\n",
      " -r --recursive       recursively compress files in directories\n",
      " -S .suf              use suffix .suf instead of .gz\n",
      "    --suffix .suf\n",
      " -t --test            test compressed file\n",
      " -V --version         display program version\n",
      " -v --verbose         print extra statistics\n",
      "gunzip: invalid option -- y\n",
      "Apple gzip 448.80.1\n",
      "usage: gunzip [-123456789acdfhklLNnqrtVv] [-S .suffix] [<file> [<file> ...]]\n",
      " -1 --fast            fastest (worst) compression\n",
      " -2 .. -8             set compression level\n",
      " -9 --best            best (slowest) compression\n",
      " -c --stdout          write to stdout, keep original files\n",
      "    --to-stdout\n",
      " -d --decompress      uncompress files\n",
      "    --uncompress\n",
      " -f --force           force overwriting & compress links\n",
      " -h --help            display this help\n",
      " -k --keep            don't delete input files during operation\n",
      " -l --list            list compressed file contents\n",
      " -N --name            save or restore original file name and time stamp\n",
      " -n --no-name         don't save original file name or time stamp\n",
      " -q --quiet           output no warnings\n",
      " -r --recursive       recursively compress files in directories\n",
      " -S .suf              use suffix .suf instead of .gz\n",
      "    --suffix .suf\n",
      " -t --test            test compressed file\n",
      " -V --version         display program version\n",
      " -v --verbose         print extra statistics\n"
     ]
    }
   ],
   "source": [
    "# Unpack zipped files for the defined protein\n",
    "dir = \"1e3g-ar\"\n",
    "abbr = \"ar\"\n",
    "receptor = \"1E3G\"  # prefix of the receptor file\n",
    "!gunzip $dir/$abbr-decoys.sdf.gz \n",
    "!gunzip $dir/$abbr-ligands.sdf.gz "
   ]
  },
  {
   "cell_type": "code",
   "execution_count": 10,
   "metadata": {
    "ExecuteTime": {
     "end_time": "2025-07-09T20:32:41.863315Z",
     "start_time": "2025-07-09T20:32:40.959455Z"
    }
   },
   "outputs": [
    {
     "name": "stdout",
     "output_type": "stream",
     "text": [
      "==============================\n",
      "*** Open Babel Error  in OpenAndSetFormat\n",
      "  Cannot open 1e3g-ar/1E3G-receptor.pdb\n",
      "0 molecules converted\n",
      "==============================\n",
      "*** Open Babel Error  in OpenAndSetFormat\n",
      "  Cannot open 1e3g-ar/1E3G-084.pdb\n",
      "0 molecules converted\n"
     ]
    }
   ],
   "source": [
    "# Create pdbqt files of receptor and ligand using obabel\n",
    "!obabel $dir/$receptor-receptor.pdb -xr -O $dir/$receptor-receptor.pdbqt\n",
    "!obabel $dir/$receptor-084.pdb -O $dir/$receptor-084.pdbqt"
   ]
  },
  {
   "cell_type": "code",
   "execution_count": 8,
   "metadata": {
    "ExecuteTime": {
     "end_time": "2025-07-09T20:32:45.054816Z",
     "start_time": "2025-07-09T20:32:43.528285Z"
    }
   },
   "outputs": [
    {
     "name": "stdout",
     "output_type": "stream",
     "text": [
      "40 molecules converted\r\n",
      "==============================\r\n",
      "*** Open Babel Warning  in ReadMolecule\r\n",
      "  Failed to kekulize aromatic bonds in MOL file (title is ZINC06322647)\r\n",
      "\r\n",
      "1200 molecules converted\r\n"
     ]
    }
   ],
   "source": [
    "# Create pdbqt files of ligands (true and decoy) using obabel\n",
    "!obabel $dir/$abbr-ligands.sdf -O $dir/$abbr-ligands.pdbqt\n",
    "!obabel $dir/$abbr-decoys.sdf -O $dir/$abbr-decoys.pdbqt"
   ]
  },
  {
   "cell_type": "code",
   "execution_count": 5,
   "metadata": {
    "ExecuteTime": {
     "end_time": "2025-07-09T20:33:02.869785Z",
     "start_time": "2025-07-09T20:33:02.864441Z"
    }
   },
   "outputs": [],
   "source": [
    "# Manually Splits a pdbqt file into the individual models and writes each model into an individual pdbqt file\n",
    "def split_pdbqt(input_file, output_prefix):\n",
    "    with open(input_file, 'r') as file:\n",
    "        lines = file.readlines()\n",
    "\n",
    "    model = []\n",
    "    model_count = 0\n",
    "    inside_model = False\n",
    "\n",
    "    for line in lines:\n",
    "        if line.startswith(\"MODEL\"):\n",
    "            inside_model = True\n",
    "            model = []\n",
    "        elif line.startswith(\"ENDMDL\"):\n",
    "            inside_model = False\n",
    "            # Write model to file\n",
    "            output_file = f\"{output_prefix}_{model_count:03d}.pdbqt\"\n",
    "            with open(output_file, \"w\") as out:\n",
    "                out.writelines(model)\n",
    "            model_count += 1\n",
    "        elif inside_model:\n",
    "            model.append(line)\n",
    "\n",
    "    print(f\"Saved {model_count} ligand files to {output_prefix}_*.pdbqt\")\n",
    "\n",
    "\n",
    "# Use the splitting function for the ligands and the decoys\n",
    "def split_ligands_and_decoys(dir, abbr):\n",
    "    output_dir_ligands = os.path.join(dir, \"split_ligands\")\n",
    "    output_dir_decoys = os.path.join(dir, \"split_decoys\")\n",
    "    os.makedirs(output_dir_ligands, exist_ok=True)\n",
    "    os.makedirs(output_dir_decoys, exist_ok=True)\n",
    "\n",
    "    input_ligands = os.path.join(dir, f\"{abbr}-ligands.pdbqt\")\n",
    "    input_decoys = os.path.join(dir, f\"{abbr}-decoys.pdbqt\")\n",
    "\n",
    "    split_pdbqt(input_ligands, os.path.join(output_dir_ligands, \"ligand\"))\n",
    "    split_pdbqt(input_decoys, os.path.join(output_dir_decoys, \"decoy\"))"
   ]
  },
  {
   "cell_type": "code",
   "execution_count": 10,
   "metadata": {
    "ExecuteTime": {
     "end_time": "2025-07-09T20:33:03.393834Z",
     "start_time": "2025-07-09T20:33:03.201979Z"
    }
   },
   "outputs": [
    {
     "name": "stdout",
     "output_type": "stream",
     "text": [
      "Saved 40 ligand files to 1e3g-ar/split_ligands/ligand_*.pdbqt\n",
      "Saved 1200 ligand files to 1e3g-ar/split_decoys/decoy_*.pdbqt\n"
     ]
    }
   ],
   "source": [
    "# Splitting of the ligand and decoy data\n",
    "split_ligands_and_decoys(dir, abbr)"
   ]
  },
  {
   "cell_type": "code",
   "execution_count": 6,
   "metadata": {
    "ExecuteTime": {
     "end_time": "2025-07-09T20:33:06.732045Z",
     "start_time": "2025-07-09T20:33:06.727020Z"
    }
   },
   "outputs": [],
   "source": [
    "output_dir_ligands = f\"{dir}/split_ligands\"\n",
    "os.makedirs(output_dir_ligands, exist_ok=True)\n",
    "\n",
    "output_dir_decoys = f\"{dir}/split_decoys\"\n",
    "os.makedirs(output_dir_decoys, exist_ok=True)"
   ]
  },
  {
   "cell_type": "code",
   "execution_count": 12,
   "metadata": {
    "ExecuteTime": {
     "end_time": "2025-07-09T20:33:07.527290Z",
     "start_time": "2025-07-09T20:33:07.509575Z"
    }
   },
   "outputs": [
    {
     "name": "stdout",
     "output_type": "stream",
     "text": [
      "Center X:  44.322 Center Y:  32.455999999999996 Center Z:  31.636\n",
      "Size X:  17.016 Size Y:  16.285999999999998 Size Z:  9.283999999999999\n"
     ]
    }
   ],
   "source": [
    "# in Pymol we get the bounding box of the chosen ligand like this: get_extent 1OUK-084\n",
    "# This gives us the min values and max values for x, y, z, from these compute the box centers for docking\n",
    "min = {'x': -3.257, 'y': 26.212, 'z': 2.412} \n",
    "max = {'x': 3.375, 'y': 35.299, 'z': 6.189}\n",
    "\n",
    "# calc box center and size\n",
    "center_x = (min['x'] + max['x']) / 2\n",
    "center_y = (min['y'] + max['y']) / 2\n",
    "center_z = (min['z'] + max['z']) / 2\n",
    "\n",
    "# calc box size\n",
    "size_x = (max['x'] - min['x']) + 4\n",
    "size_y = (max['y'] - min['y']) + 4\n",
    "size_z = (max['z'] - min['z']) + 4\n",
    "\n",
    "print(\"Center X: \", center_x, \"Center Y: \", center_y, \"Center Z: \", center_z)\n",
    "print(\"Size X: \", size_x, \"Size Y: \", size_y, \"Size Z: \", size_z)"
   ]
  },
  {
   "cell_type": "code",
   "execution_count": 56,
   "metadata": {
    "ExecuteTime": {
     "end_time": "2025-07-10T07:24:56.733293Z",
     "start_time": "2025-07-10T07:24:56.250021Z"
    }
   },
   "outputs": [
    {
     "name": "stdout",
     "output_type": "stream",
     "text": [
      "Error for ligand_001.pdbqt: [Errno 2] No such file or directory: 'vina'\n",
      "Error for ligand_005.pdbqt: [Errno 2] No such file or directory: 'vina'\n",
      "Error for ligand_000.pdbqt: [Errno 2] No such file or directory: 'vina'\n",
      "Error for ligand_003.pdbqt: [Errno 2] No such file or directory: 'vina'\n",
      "Error for ligand_008.pdbqt: [Errno 2] No such file or directory: 'vina'\n",
      "Error for ligand_004.pdbqt: [Errno 2] No such file or directory: 'vina'\n",
      "Error for ligand_006.pdbqt: [Errno 2] No such file or directory: 'vina'\n",
      "Error for ligand_002.pdbqt: [Errno 2] No such file or directory: 'vina'\n",
      "Error for ligand_012.pdbqt: [Errno 2] No such file or directory: 'vina'\n",
      "Error for ligand_009.pdbqt: [Errno 2] No such file or directory: 'vina'\n",
      "Error for ligand_010.pdbqt: [Errno 2] No such file or directory: 'vina'\n",
      "Error for ligand_013.pdbqt: [Errno 2] No such file or directory: 'vina'\n",
      "Error for ligand_015.pdbqt: [Errno 2] No such file or directory: 'vina'\n",
      "Error for ligand_016.pdbqt: [Errno 2] No such file or directory: 'vina'\n",
      "Error for ligand_011.pdbqt: [Errno 2] No such file or directory: 'vina'\n",
      "Error for ligand_019.pdbqt: [Errno 2] No such file or directory: 'vina'\n",
      "Error for ligand_007.pdbqt: [Errno 2] No such file or directory: 'vina'\n",
      "Error for ligand_020.pdbqt: [Errno 2] No such file or directory: 'vina'\n",
      "Error for ligand_014.pdbqt: [Errno 2] No such file or directory: 'vina'\n",
      "Error for ligand_022.pdbqt: [Errno 2] No such file or directory: 'vina'\n",
      "Error for ligand_018.pdbqt: [Errno 2] No such file or directory: 'vina'\n",
      "Error for ligand_017.pdbqt: [Errno 2] No such file or directory: 'vina'\n",
      "Error for ligand_028.pdbqt: [Errno 2] No such file or directory: 'vina'Error for ligand_021.pdbqt: [Errno 2] No such file or directory: 'vina'\n",
      "Error for ligand_024.pdbqt: [Errno 2] No such file or directory: 'vina'\n",
      "Error for ligand_025.pdbqt: [Errno 2] No such file or directory: 'vina'\n",
      "\n",
      "Error for ligand_023.pdbqt: [Errno 2] No such file or directory: 'vina'\n",
      "Error for ligand_030.pdbqt: [Errno 2] No such file or directory: 'vina'\n",
      "Error for ligand_029.pdbqt: [Errno 2] No such file or directory: 'vina'\n",
      "Error for ligand_026.pdbqt: [Errno 2] No such file or directory: 'vina'\n",
      "Error for ligand_031.pdbqt: [Errno 2] No such file or directory: 'vina'\n",
      "Error for ligand_027.pdbqt: [Errno 2] No such file or directory: 'vina'\n",
      "Error for ligand_032.pdbqt: [Errno 2] No such file or directory: 'vina'\n",
      "Error for ligand_033.pdbqt: [Errno 2] No such file or directory: 'vina'\n",
      "Error for ligand_034.pdbqt: [Errno 2] No such file or directory: 'vina'\n",
      "Error for ligand_037.pdbqt: [Errno 2] No such file or directory: 'vina'\n",
      "Error for ligand_038.pdbqt: [Errno 2] No such file or directory: 'vina'\n",
      "Error for ligand_036.pdbqt: [Errno 2] No such file or directory: 'vina'\n",
      "Error for ligand_035.pdbqt: [Errno 2] No such file or directory: 'vina'\n",
      "Error for ligand_039.pdbqt: [Errno 2] No such file or directory: 'vina'\n",
      "[\"failed: ligand_000.pdbqt, [Errno 2] No such file or directory: 'vina'\", \"failed: ligand_001.pdbqt, [Errno 2] No such file or directory: 'vina'\", \"failed: ligand_002.pdbqt, [Errno 2] No such file or directory: 'vina'\", \"failed: ligand_003.pdbqt, [Errno 2] No such file or directory: 'vina'\", \"failed: ligand_004.pdbqt, [Errno 2] No such file or directory: 'vina'\", \"failed: ligand_005.pdbqt, [Errno 2] No such file or directory: 'vina'\", \"failed: ligand_006.pdbqt, [Errno 2] No such file or directory: 'vina'\", \"failed: ligand_007.pdbqt, [Errno 2] No such file or directory: 'vina'\", \"failed: ligand_008.pdbqt, [Errno 2] No such file or directory: 'vina'\", \"failed: ligand_009.pdbqt, [Errno 2] No such file or directory: 'vina'\", \"failed: ligand_010.pdbqt, [Errno 2] No such file or directory: 'vina'\", \"failed: ligand_011.pdbqt, [Errno 2] No such file or directory: 'vina'\", \"failed: ligand_012.pdbqt, [Errno 2] No such file or directory: 'vina'\", \"failed: ligand_013.pdbqt, [Errno 2] No such file or directory: 'vina'\", \"failed: ligand_014.pdbqt, [Errno 2] No such file or directory: 'vina'\", \"failed: ligand_015.pdbqt, [Errno 2] No such file or directory: 'vina'\", \"failed: ligand_016.pdbqt, [Errno 2] No such file or directory: 'vina'\", \"failed: ligand_017.pdbqt, [Errno 2] No such file or directory: 'vina'\", \"failed: ligand_018.pdbqt, [Errno 2] No such file or directory: 'vina'\", \"failed: ligand_019.pdbqt, [Errno 2] No such file or directory: 'vina'\", \"failed: ligand_020.pdbqt, [Errno 2] No such file or directory: 'vina'\", \"failed: ligand_021.pdbqt, [Errno 2] No such file or directory: 'vina'\", \"failed: ligand_022.pdbqt, [Errno 2] No such file or directory: 'vina'\", \"failed: ligand_023.pdbqt, [Errno 2] No such file or directory: 'vina'\", \"failed: ligand_024.pdbqt, [Errno 2] No such file or directory: 'vina'\", \"failed: ligand_025.pdbqt, [Errno 2] No such file or directory: 'vina'\", \"failed: ligand_026.pdbqt, [Errno 2] No such file or directory: 'vina'\", \"failed: ligand_027.pdbqt, [Errno 2] No such file or directory: 'vina'\", \"failed: ligand_028.pdbqt, [Errno 2] No such file or directory: 'vina'\", \"failed: ligand_029.pdbqt, [Errno 2] No such file or directory: 'vina'\", \"failed: ligand_030.pdbqt, [Errno 2] No such file or directory: 'vina'\", \"failed: ligand_031.pdbqt, [Errno 2] No such file or directory: 'vina'\", \"failed: ligand_032.pdbqt, [Errno 2] No such file or directory: 'vina'\", \"failed: ligand_033.pdbqt, [Errno 2] No such file or directory: 'vina'\", \"failed: ligand_034.pdbqt, [Errno 2] No such file or directory: 'vina'\", \"failed: ligand_035.pdbqt, [Errno 2] No such file or directory: 'vina'\", \"failed: ligand_036.pdbqt, [Errno 2] No such file or directory: 'vina'\", \"failed: ligand_037.pdbqt, [Errno 2] No such file or directory: 'vina'\", \"failed: ligand_038.pdbqt, [Errno 2] No such file or directory: 'vina'\", \"failed: ligand_039.pdbqt, [Errno 2] No such file or directory: 'vina'\"]\n"
     ]
    }
   ],
   "source": [
    "receptor_file = f\"{dir}/{receptor}-receptor.pdbqt\"\n",
    "output_dir = f\"{dir}/vs_results_ligands\"\n",
    "os.makedirs(output_dir, exist_ok=True)\n",
    "\n",
    "ligands = sorted([f for f in os.listdir(output_dir_ligands) if f.endswith(\".pdbqt\")])\n",
    "\n",
    "def dock(lig, input_path):\n",
    "    try:\n",
    "        lig_path = os.path.join(input_path, lig)\n",
    "        out_path = os.path.join(output_dir, lig.replace(\".pdbqt\", \"_docked.pdbqt\"))\n",
    "        \n",
    "        if not os.path.isfile(lig_path):\n",
    "            print(f\"Ligand not found: {lig_path}\")\n",
    "\n",
    "        cmd = [\n",
    "            \"vina\",\n",
    "            \"--receptor\", receptor_file,\n",
    "            \"--ligand\", lig_path,\n",
    "            \"--center_x\", str(center_x),  # specify box center coordinates (float)\n",
    "            \"--center_y\", str(center_y),\n",
    "            \"--center_z\", str(center_z),\n",
    "            \"--size_x\", str(size_x),\n",
    "            \"--size_y\", str(size_y),\n",
    "            \"--size_z\", str(size_z),\n",
    "            \"--exhaustiveness\", \"16\",\n",
    "            \"--seed\", \"12345\",\n",
    "            \"--out\", out_path\n",
    "        ]\n",
    "\n",
    "        subprocess.run(cmd, check=True, stdout=subprocess.DEVNULL, stderr=subprocess.DEVNULL)\n",
    "        print(f\"Docked: {lig}\")\n",
    "        return f\"success: {lig}\"\n",
    "    except subprocess.CalledProcessError as e:\n",
    "        print(f\"Docking failed: {lig}\")\n",
    "        return f\"failed: {lig}, {e}\"\n",
    "    except Exception as e:\n",
    "        print(f\"Error for {lig}: {e}\")\n",
    "        return f\"failed: {lig}, {e}\"\n",
    "\n",
    "# run in parallel for ligands\n",
    "results = Parallel(n_jobs=os.cpu_count(), backend=\"threading\")(delayed(dock)(lig, output_dir_ligands) for lig in ligands)\n",
    "print(results)"
   ]
  },
  {
   "cell_type": "code",
   "execution_count": 52,
   "metadata": {
    "ExecuteTime": {
     "end_time": "2025-07-10T07:21:47.801380Z",
     "start_time": "2025-07-10T07:21:47.787241Z"
    }
   },
   "outputs": [],
   "source": [
    "import pickle\n",
    "try:\n",
    "    pickle.dumps((dock, ligands[0], output_dir_ligands))\n",
    "except Exception as e:\n",
    "    print(\"Pickle error:\", e)"
   ]
  },
  {
   "cell_type": "code",
   "execution_count": 42,
   "metadata": {
    "ExecuteTime": {
     "end_time": "2025-07-09T20:49:10.677681Z",
     "start_time": "2025-07-09T20:49:05.171492Z"
    }
   },
   "outputs": [
    {
     "name": "stdout",
     "output_type": "stream",
     "text": [
      "['failed: decoy_000.pdbqt', 'failed: decoy_001.pdbqt', 'failed: decoy_002.pdbqt', 'failed: decoy_003.pdbqt', 'failed: decoy_004.pdbqt', 'failed: decoy_005.pdbqt', 'failed: decoy_006.pdbqt', 'failed: decoy_007.pdbqt', 'failed: decoy_008.pdbqt', 'failed: decoy_009.pdbqt', 'failed: decoy_010.pdbqt', 'failed: decoy_011.pdbqt', 'failed: decoy_012.pdbqt', 'failed: decoy_013.pdbqt', 'failed: decoy_014.pdbqt', 'failed: decoy_015.pdbqt', 'failed: decoy_016.pdbqt', 'failed: decoy_017.pdbqt', 'failed: decoy_018.pdbqt', 'failed: decoy_019.pdbqt', 'failed: decoy_020.pdbqt', 'failed: decoy_021.pdbqt', 'failed: decoy_022.pdbqt', 'failed: decoy_023.pdbqt', 'failed: decoy_024.pdbqt', 'failed: decoy_025.pdbqt', 'failed: decoy_026.pdbqt', 'failed: decoy_027.pdbqt', 'failed: decoy_028.pdbqt', 'failed: decoy_029.pdbqt', 'failed: decoy_030.pdbqt', 'failed: decoy_031.pdbqt', 'failed: decoy_032.pdbqt', 'failed: decoy_033.pdbqt', 'failed: decoy_034.pdbqt', 'failed: decoy_035.pdbqt', 'failed: decoy_036.pdbqt', 'failed: decoy_037.pdbqt', 'failed: decoy_038.pdbqt', 'failed: decoy_039.pdbqt', 'failed: decoy_040.pdbqt', 'failed: decoy_041.pdbqt', 'failed: decoy_042.pdbqt', 'failed: decoy_043.pdbqt', 'failed: decoy_044.pdbqt', 'failed: decoy_045.pdbqt', 'failed: decoy_046.pdbqt', 'failed: decoy_047.pdbqt', 'failed: decoy_048.pdbqt', 'failed: decoy_049.pdbqt', 'failed: decoy_050.pdbqt', 'failed: decoy_051.pdbqt', 'failed: decoy_052.pdbqt', 'failed: decoy_053.pdbqt', 'failed: decoy_054.pdbqt', 'failed: decoy_055.pdbqt', 'failed: decoy_056.pdbqt', 'failed: decoy_057.pdbqt', 'failed: decoy_058.pdbqt', 'failed: decoy_059.pdbqt', 'failed: decoy_060.pdbqt', 'failed: decoy_061.pdbqt', 'failed: decoy_062.pdbqt', 'failed: decoy_063.pdbqt', 'failed: decoy_064.pdbqt', 'failed: decoy_065.pdbqt', 'failed: decoy_066.pdbqt', 'failed: decoy_067.pdbqt', 'failed: decoy_068.pdbqt', 'failed: decoy_069.pdbqt', 'failed: decoy_070.pdbqt', 'failed: decoy_071.pdbqt', 'failed: decoy_072.pdbqt', 'failed: decoy_073.pdbqt', 'failed: decoy_074.pdbqt', 'failed: decoy_075.pdbqt', 'failed: decoy_076.pdbqt', 'failed: decoy_077.pdbqt', 'failed: decoy_078.pdbqt', 'failed: decoy_079.pdbqt', 'failed: decoy_080.pdbqt', 'failed: decoy_081.pdbqt', 'failed: decoy_082.pdbqt', 'failed: decoy_083.pdbqt', 'failed: decoy_084.pdbqt', 'failed: decoy_085.pdbqt', 'failed: decoy_086.pdbqt', 'failed: decoy_087.pdbqt', 'failed: decoy_088.pdbqt', 'failed: decoy_089.pdbqt', 'failed: decoy_090.pdbqt', 'failed: decoy_091.pdbqt', 'failed: decoy_092.pdbqt', 'failed: decoy_093.pdbqt', 'failed: decoy_094.pdbqt', 'failed: decoy_095.pdbqt', 'failed: decoy_096.pdbqt', 'failed: decoy_097.pdbqt', 'failed: decoy_098.pdbqt', 'failed: decoy_099.pdbqt', 'failed: decoy_100.pdbqt', 'failed: decoy_1000.pdbqt', 'failed: decoy_1001.pdbqt', 'failed: decoy_1002.pdbqt', 'failed: decoy_1003.pdbqt', 'failed: decoy_1004.pdbqt', 'failed: decoy_1005.pdbqt', 'failed: decoy_1006.pdbqt', 'failed: decoy_1007.pdbqt', 'failed: decoy_1008.pdbqt', 'failed: decoy_1009.pdbqt', 'failed: decoy_101.pdbqt', 'failed: decoy_1010.pdbqt', 'failed: decoy_1011.pdbqt', 'failed: decoy_1012.pdbqt', 'failed: decoy_1013.pdbqt', 'failed: decoy_1014.pdbqt', 'failed: decoy_1015.pdbqt', 'failed: decoy_1016.pdbqt', 'failed: decoy_1017.pdbqt', 'failed: decoy_1018.pdbqt', 'failed: decoy_1019.pdbqt', 'failed: decoy_102.pdbqt', 'failed: decoy_1020.pdbqt', 'failed: decoy_1021.pdbqt', 'failed: decoy_1022.pdbqt', 'failed: decoy_1023.pdbqt', 'failed: decoy_1024.pdbqt', 'failed: decoy_1025.pdbqt', 'failed: decoy_1026.pdbqt', 'failed: decoy_1027.pdbqt', 'failed: decoy_1028.pdbqt', 'failed: decoy_1029.pdbqt', 'failed: decoy_103.pdbqt', 'failed: decoy_1030.pdbqt', 'failed: decoy_1031.pdbqt', 'failed: decoy_1032.pdbqt', 'failed: decoy_1033.pdbqt', 'failed: decoy_1034.pdbqt', 'failed: decoy_1035.pdbqt', 'failed: decoy_1036.pdbqt', 'failed: decoy_1037.pdbqt', 'failed: decoy_1038.pdbqt', 'failed: decoy_1039.pdbqt', 'failed: decoy_104.pdbqt', 'failed: decoy_1040.pdbqt', 'failed: decoy_1041.pdbqt', 'failed: decoy_1042.pdbqt', 'failed: decoy_1043.pdbqt', 'failed: decoy_1044.pdbqt', 'failed: decoy_1045.pdbqt', 'failed: decoy_1046.pdbqt', 'failed: decoy_1047.pdbqt', 'failed: decoy_1048.pdbqt', 'failed: decoy_1049.pdbqt', 'failed: decoy_105.pdbqt', 'failed: decoy_1050.pdbqt', 'failed: decoy_1051.pdbqt', 'failed: decoy_1052.pdbqt', 'failed: decoy_1053.pdbqt', 'failed: decoy_1054.pdbqt', 'failed: decoy_1055.pdbqt', 'failed: decoy_1056.pdbqt', 'failed: decoy_1057.pdbqt', 'failed: decoy_1058.pdbqt', 'failed: decoy_1059.pdbqt', 'failed: decoy_106.pdbqt', 'failed: decoy_1060.pdbqt', 'failed: decoy_1061.pdbqt', 'failed: decoy_1062.pdbqt', 'failed: decoy_1063.pdbqt', 'failed: decoy_1064.pdbqt', 'failed: decoy_1065.pdbqt', 'failed: decoy_1066.pdbqt', 'failed: decoy_1067.pdbqt', 'failed: decoy_1068.pdbqt', 'failed: decoy_1069.pdbqt', 'failed: decoy_107.pdbqt', 'failed: decoy_1070.pdbqt', 'failed: decoy_1071.pdbqt', 'failed: decoy_1072.pdbqt', 'failed: decoy_1073.pdbqt', 'failed: decoy_1074.pdbqt', 'failed: decoy_1075.pdbqt', 'failed: decoy_1076.pdbqt', 'failed: decoy_1077.pdbqt', 'failed: decoy_1078.pdbqt', 'failed: decoy_1079.pdbqt', 'failed: decoy_108.pdbqt', 'failed: decoy_1080.pdbqt', 'failed: decoy_1081.pdbqt', 'failed: decoy_1082.pdbqt', 'failed: decoy_1083.pdbqt', 'failed: decoy_1084.pdbqt', 'failed: decoy_1085.pdbqt', 'failed: decoy_1086.pdbqt', 'failed: decoy_1087.pdbqt', 'failed: decoy_1088.pdbqt', 'failed: decoy_1089.pdbqt', 'failed: decoy_109.pdbqt', 'failed: decoy_1090.pdbqt', 'failed: decoy_1091.pdbqt', 'failed: decoy_1092.pdbqt', 'failed: decoy_1093.pdbqt', 'failed: decoy_1094.pdbqt', 'failed: decoy_1095.pdbqt', 'failed: decoy_1096.pdbqt', 'failed: decoy_1097.pdbqt', 'failed: decoy_1098.pdbqt', 'failed: decoy_1099.pdbqt', 'failed: decoy_110.pdbqt', 'failed: decoy_1100.pdbqt', 'failed: decoy_1101.pdbqt', 'failed: decoy_1102.pdbqt', 'failed: decoy_1103.pdbqt', 'failed: decoy_1104.pdbqt', 'failed: decoy_1105.pdbqt', 'failed: decoy_1106.pdbqt', 'failed: decoy_1107.pdbqt', 'failed: decoy_1108.pdbqt', 'failed: decoy_1109.pdbqt', 'failed: decoy_111.pdbqt', 'failed: decoy_1110.pdbqt', 'failed: decoy_1111.pdbqt', 'failed: decoy_1112.pdbqt', 'failed: decoy_1113.pdbqt', 'failed: decoy_1114.pdbqt', 'failed: decoy_1115.pdbqt', 'failed: decoy_1116.pdbqt', 'failed: decoy_1117.pdbqt', 'failed: decoy_1118.pdbqt', 'failed: decoy_1119.pdbqt', 'failed: decoy_112.pdbqt', 'failed: decoy_1120.pdbqt', 'failed: decoy_1121.pdbqt', 'failed: decoy_1122.pdbqt', 'failed: decoy_1123.pdbqt', 'failed: decoy_1124.pdbqt', 'failed: decoy_1125.pdbqt', 'failed: decoy_1126.pdbqt', 'failed: decoy_1127.pdbqt', 'failed: decoy_1128.pdbqt', 'failed: decoy_1129.pdbqt', 'failed: decoy_113.pdbqt', 'failed: decoy_1130.pdbqt', 'failed: decoy_1131.pdbqt', 'failed: decoy_1132.pdbqt', 'failed: decoy_1133.pdbqt', 'failed: decoy_1134.pdbqt', 'failed: decoy_1135.pdbqt', 'failed: decoy_1136.pdbqt', 'failed: decoy_1137.pdbqt', 'failed: decoy_1138.pdbqt', 'failed: decoy_1139.pdbqt', 'failed: decoy_114.pdbqt', 'failed: decoy_1140.pdbqt', 'failed: decoy_1141.pdbqt', 'failed: decoy_1142.pdbqt', 'failed: decoy_1143.pdbqt', 'failed: decoy_1144.pdbqt', 'failed: decoy_1145.pdbqt', 'failed: decoy_1146.pdbqt', 'failed: decoy_1147.pdbqt', 'failed: decoy_1148.pdbqt', 'failed: decoy_1149.pdbqt', 'failed: decoy_115.pdbqt', 'failed: decoy_1150.pdbqt', 'failed: decoy_1151.pdbqt', 'failed: decoy_1152.pdbqt', 'failed: decoy_1153.pdbqt', 'failed: decoy_1154.pdbqt', 'failed: decoy_1155.pdbqt', 'failed: decoy_1156.pdbqt', 'failed: decoy_1157.pdbqt', 'failed: decoy_1158.pdbqt', 'failed: decoy_1159.pdbqt', 'failed: decoy_116.pdbqt', 'failed: decoy_1160.pdbqt', 'failed: decoy_1161.pdbqt', 'failed: decoy_1162.pdbqt', 'failed: decoy_1163.pdbqt', 'failed: decoy_1164.pdbqt', 'failed: decoy_1165.pdbqt', 'failed: decoy_1166.pdbqt', 'failed: decoy_1167.pdbqt', 'failed: decoy_1168.pdbqt', 'failed: decoy_1169.pdbqt', 'failed: decoy_117.pdbqt', 'failed: decoy_1170.pdbqt', 'failed: decoy_1171.pdbqt', 'failed: decoy_1172.pdbqt', 'failed: decoy_1173.pdbqt', 'failed: decoy_1174.pdbqt', 'failed: decoy_1175.pdbqt', 'failed: decoy_1176.pdbqt', 'failed: decoy_1177.pdbqt', 'failed: decoy_1178.pdbqt', 'failed: decoy_1179.pdbqt', 'failed: decoy_118.pdbqt', 'failed: decoy_1180.pdbqt', 'failed: decoy_1181.pdbqt', 'failed: decoy_1182.pdbqt', 'failed: decoy_1183.pdbqt', 'failed: decoy_1184.pdbqt', 'failed: decoy_1185.pdbqt', 'failed: decoy_1186.pdbqt', 'failed: decoy_1187.pdbqt', 'failed: decoy_1188.pdbqt', 'failed: decoy_1189.pdbqt', 'failed: decoy_119.pdbqt', 'failed: decoy_1190.pdbqt', 'failed: decoy_1191.pdbqt', 'failed: decoy_1192.pdbqt', 'failed: decoy_1193.pdbqt', 'failed: decoy_1194.pdbqt', 'failed: decoy_1195.pdbqt', 'failed: decoy_1196.pdbqt', 'failed: decoy_1197.pdbqt', 'failed: decoy_1198.pdbqt', 'failed: decoy_1199.pdbqt', 'failed: decoy_120.pdbqt', 'failed: decoy_121.pdbqt', 'failed: decoy_122.pdbqt', 'failed: decoy_123.pdbqt', 'failed: decoy_124.pdbqt', 'failed: decoy_125.pdbqt', 'failed: decoy_126.pdbqt', 'failed: decoy_127.pdbqt', 'failed: decoy_128.pdbqt', 'failed: decoy_129.pdbqt', 'failed: decoy_130.pdbqt', 'failed: decoy_131.pdbqt', 'failed: decoy_132.pdbqt', 'failed: decoy_133.pdbqt', 'failed: decoy_134.pdbqt', 'failed: decoy_135.pdbqt', 'failed: decoy_136.pdbqt', 'failed: decoy_137.pdbqt', 'failed: decoy_138.pdbqt', 'failed: decoy_139.pdbqt', 'failed: decoy_140.pdbqt', 'failed: decoy_141.pdbqt', 'failed: decoy_142.pdbqt', 'failed: decoy_143.pdbqt', 'failed: decoy_144.pdbqt', 'failed: decoy_145.pdbqt', 'failed: decoy_146.pdbqt', 'failed: decoy_147.pdbqt', 'failed: decoy_148.pdbqt', 'failed: decoy_149.pdbqt', 'failed: decoy_150.pdbqt', 'failed: decoy_151.pdbqt', 'failed: decoy_152.pdbqt', 'failed: decoy_153.pdbqt', 'failed: decoy_154.pdbqt', 'failed: decoy_155.pdbqt', 'failed: decoy_156.pdbqt', 'failed: decoy_157.pdbqt', 'failed: decoy_158.pdbqt', 'failed: decoy_159.pdbqt', 'failed: decoy_160.pdbqt', 'failed: decoy_161.pdbqt', 'failed: decoy_162.pdbqt', 'failed: decoy_163.pdbqt', 'failed: decoy_164.pdbqt', 'failed: decoy_165.pdbqt', 'failed: decoy_166.pdbqt', 'failed: decoy_167.pdbqt', 'failed: decoy_168.pdbqt', 'failed: decoy_169.pdbqt', 'failed: decoy_170.pdbqt', 'failed: decoy_171.pdbqt', 'failed: decoy_172.pdbqt', 'failed: decoy_173.pdbqt', 'failed: decoy_174.pdbqt', 'failed: decoy_175.pdbqt', 'failed: decoy_176.pdbqt', 'failed: decoy_177.pdbqt', 'failed: decoy_178.pdbqt', 'failed: decoy_179.pdbqt', 'failed: decoy_180.pdbqt', 'failed: decoy_181.pdbqt', 'failed: decoy_182.pdbqt', 'failed: decoy_183.pdbqt', 'failed: decoy_184.pdbqt', 'failed: decoy_185.pdbqt', 'failed: decoy_186.pdbqt', 'failed: decoy_187.pdbqt', 'failed: decoy_188.pdbqt', 'failed: decoy_189.pdbqt', 'failed: decoy_190.pdbqt', 'failed: decoy_191.pdbqt', 'failed: decoy_192.pdbqt', 'failed: decoy_193.pdbqt', 'failed: decoy_194.pdbqt', 'failed: decoy_195.pdbqt', 'failed: decoy_196.pdbqt', 'failed: decoy_197.pdbqt', 'failed: decoy_198.pdbqt', 'failed: decoy_199.pdbqt', 'failed: decoy_200.pdbqt', 'failed: decoy_201.pdbqt', 'failed: decoy_202.pdbqt', 'failed: decoy_203.pdbqt', 'failed: decoy_204.pdbqt', 'failed: decoy_205.pdbqt', 'failed: decoy_206.pdbqt', 'failed: decoy_207.pdbqt', 'failed: decoy_208.pdbqt', 'failed: decoy_209.pdbqt', 'failed: decoy_210.pdbqt', 'failed: decoy_211.pdbqt', 'failed: decoy_212.pdbqt', 'failed: decoy_213.pdbqt', 'failed: decoy_214.pdbqt', 'failed: decoy_215.pdbqt', 'failed: decoy_216.pdbqt', 'failed: decoy_217.pdbqt', 'failed: decoy_218.pdbqt', 'failed: decoy_219.pdbqt', 'failed: decoy_220.pdbqt', 'failed: decoy_221.pdbqt', 'failed: decoy_222.pdbqt', 'failed: decoy_223.pdbqt', 'failed: decoy_224.pdbqt', 'failed: decoy_225.pdbqt', 'failed: decoy_226.pdbqt', 'failed: decoy_227.pdbqt', 'failed: decoy_228.pdbqt', 'failed: decoy_229.pdbqt', 'failed: decoy_230.pdbqt', 'failed: decoy_231.pdbqt', 'failed: decoy_232.pdbqt', 'failed: decoy_233.pdbqt', 'failed: decoy_234.pdbqt', 'failed: decoy_235.pdbqt', 'failed: decoy_236.pdbqt', 'failed: decoy_237.pdbqt', 'failed: decoy_238.pdbqt', 'failed: decoy_239.pdbqt', 'failed: decoy_240.pdbqt', 'failed: decoy_241.pdbqt', 'failed: decoy_242.pdbqt', 'failed: decoy_243.pdbqt', 'failed: decoy_244.pdbqt', 'failed: decoy_245.pdbqt', 'failed: decoy_246.pdbqt', 'failed: decoy_247.pdbqt', 'failed: decoy_248.pdbqt', 'failed: decoy_249.pdbqt', 'failed: decoy_250.pdbqt', 'failed: decoy_251.pdbqt', 'failed: decoy_252.pdbqt', 'failed: decoy_253.pdbqt', 'failed: decoy_254.pdbqt', 'failed: decoy_255.pdbqt', 'failed: decoy_256.pdbqt', 'failed: decoy_257.pdbqt', 'failed: decoy_258.pdbqt', 'failed: decoy_259.pdbqt', 'failed: decoy_260.pdbqt', 'failed: decoy_261.pdbqt', 'failed: decoy_262.pdbqt', 'failed: decoy_263.pdbqt', 'failed: decoy_264.pdbqt', 'failed: decoy_265.pdbqt', 'failed: decoy_266.pdbqt', 'failed: decoy_267.pdbqt', 'failed: decoy_268.pdbqt', 'failed: decoy_269.pdbqt', 'failed: decoy_270.pdbqt', 'failed: decoy_271.pdbqt', 'failed: decoy_272.pdbqt', 'failed: decoy_273.pdbqt', 'failed: decoy_274.pdbqt', 'failed: decoy_275.pdbqt', 'failed: decoy_276.pdbqt', 'failed: decoy_277.pdbqt', 'failed: decoy_278.pdbqt', 'failed: decoy_279.pdbqt', 'failed: decoy_280.pdbqt', 'failed: decoy_281.pdbqt', 'failed: decoy_282.pdbqt', 'failed: decoy_283.pdbqt', 'failed: decoy_284.pdbqt', 'failed: decoy_285.pdbqt', 'failed: decoy_286.pdbqt', 'failed: decoy_287.pdbqt', 'failed: decoy_288.pdbqt', 'failed: decoy_289.pdbqt', 'failed: decoy_290.pdbqt', 'failed: decoy_291.pdbqt', 'failed: decoy_292.pdbqt', 'failed: decoy_293.pdbqt', 'failed: decoy_294.pdbqt', 'failed: decoy_295.pdbqt', 'failed: decoy_296.pdbqt', 'failed: decoy_297.pdbqt', 'failed: decoy_298.pdbqt', 'failed: decoy_299.pdbqt', 'failed: decoy_300.pdbqt', 'failed: decoy_301.pdbqt', 'failed: decoy_302.pdbqt', 'failed: decoy_303.pdbqt', 'failed: decoy_304.pdbqt', 'failed: decoy_305.pdbqt', 'failed: decoy_306.pdbqt', 'failed: decoy_307.pdbqt', 'failed: decoy_308.pdbqt', 'failed: decoy_309.pdbqt', 'failed: decoy_310.pdbqt', 'failed: decoy_311.pdbqt', 'failed: decoy_312.pdbqt', 'failed: decoy_313.pdbqt', 'failed: decoy_314.pdbqt', 'failed: decoy_315.pdbqt', 'failed: decoy_316.pdbqt', 'failed: decoy_317.pdbqt', 'failed: decoy_318.pdbqt', 'failed: decoy_319.pdbqt', 'failed: decoy_320.pdbqt', 'failed: decoy_321.pdbqt', 'failed: decoy_322.pdbqt', 'failed: decoy_323.pdbqt', 'failed: decoy_324.pdbqt', 'failed: decoy_325.pdbqt', 'failed: decoy_326.pdbqt', 'failed: decoy_327.pdbqt', 'failed: decoy_328.pdbqt', 'failed: decoy_329.pdbqt', 'failed: decoy_330.pdbqt', 'failed: decoy_331.pdbqt', 'failed: decoy_332.pdbqt', 'failed: decoy_333.pdbqt', 'failed: decoy_334.pdbqt', 'failed: decoy_335.pdbqt', 'failed: decoy_336.pdbqt', 'failed: decoy_337.pdbqt', 'failed: decoy_338.pdbqt', 'failed: decoy_339.pdbqt', 'failed: decoy_340.pdbqt', 'failed: decoy_341.pdbqt', 'failed: decoy_342.pdbqt', 'failed: decoy_343.pdbqt', 'failed: decoy_344.pdbqt', 'failed: decoy_345.pdbqt', 'failed: decoy_346.pdbqt', 'failed: decoy_347.pdbqt', 'failed: decoy_348.pdbqt', 'failed: decoy_349.pdbqt', 'failed: decoy_350.pdbqt', 'failed: decoy_351.pdbqt', 'failed: decoy_352.pdbqt', 'failed: decoy_353.pdbqt', 'failed: decoy_354.pdbqt', 'failed: decoy_355.pdbqt', 'failed: decoy_356.pdbqt', 'failed: decoy_357.pdbqt', 'failed: decoy_358.pdbqt', 'failed: decoy_359.pdbqt', 'failed: decoy_360.pdbqt', 'failed: decoy_361.pdbqt', 'failed: decoy_362.pdbqt', 'failed: decoy_363.pdbqt', 'failed: decoy_364.pdbqt', 'failed: decoy_365.pdbqt', 'failed: decoy_366.pdbqt', 'failed: decoy_367.pdbqt', 'failed: decoy_368.pdbqt', 'failed: decoy_369.pdbqt', 'failed: decoy_370.pdbqt', 'failed: decoy_371.pdbqt', 'failed: decoy_372.pdbqt', 'failed: decoy_373.pdbqt', 'failed: decoy_374.pdbqt', 'failed: decoy_375.pdbqt', 'failed: decoy_376.pdbqt', 'failed: decoy_377.pdbqt', 'failed: decoy_378.pdbqt', 'failed: decoy_379.pdbqt', 'failed: decoy_380.pdbqt', 'failed: decoy_381.pdbqt', 'failed: decoy_382.pdbqt', 'failed: decoy_383.pdbqt', 'failed: decoy_384.pdbqt', 'failed: decoy_385.pdbqt', 'failed: decoy_386.pdbqt', 'failed: decoy_387.pdbqt', 'failed: decoy_388.pdbqt', 'failed: decoy_389.pdbqt', 'failed: decoy_390.pdbqt', 'failed: decoy_391.pdbqt', 'failed: decoy_392.pdbqt', 'failed: decoy_393.pdbqt', 'failed: decoy_394.pdbqt', 'failed: decoy_395.pdbqt', 'failed: decoy_396.pdbqt', 'failed: decoy_397.pdbqt', 'failed: decoy_398.pdbqt', 'failed: decoy_399.pdbqt', 'failed: decoy_400.pdbqt', 'failed: decoy_401.pdbqt', 'failed: decoy_402.pdbqt', 'failed: decoy_403.pdbqt', 'failed: decoy_404.pdbqt', 'failed: decoy_405.pdbqt', 'failed: decoy_406.pdbqt', 'failed: decoy_407.pdbqt', 'failed: decoy_408.pdbqt', 'failed: decoy_409.pdbqt', 'failed: decoy_410.pdbqt', 'failed: decoy_411.pdbqt', 'failed: decoy_412.pdbqt', 'failed: decoy_413.pdbqt', 'failed: decoy_414.pdbqt', 'failed: decoy_415.pdbqt', 'failed: decoy_416.pdbqt', 'failed: decoy_417.pdbqt', 'failed: decoy_418.pdbqt', 'failed: decoy_419.pdbqt', 'failed: decoy_420.pdbqt', 'failed: decoy_421.pdbqt', 'failed: decoy_422.pdbqt', 'failed: decoy_423.pdbqt', 'failed: decoy_424.pdbqt', 'failed: decoy_425.pdbqt', 'failed: decoy_426.pdbqt', 'failed: decoy_427.pdbqt', 'failed: decoy_428.pdbqt', 'failed: decoy_429.pdbqt', 'failed: decoy_430.pdbqt', 'failed: decoy_431.pdbqt', 'failed: decoy_432.pdbqt', 'failed: decoy_433.pdbqt', 'failed: decoy_434.pdbqt', 'failed: decoy_435.pdbqt', 'failed: decoy_436.pdbqt', 'failed: decoy_437.pdbqt', 'failed: decoy_438.pdbqt', 'failed: decoy_439.pdbqt', 'failed: decoy_440.pdbqt', 'failed: decoy_441.pdbqt', 'failed: decoy_442.pdbqt', 'failed: decoy_443.pdbqt', 'failed: decoy_444.pdbqt', 'failed: decoy_445.pdbqt', 'failed: decoy_446.pdbqt', 'failed: decoy_447.pdbqt', 'failed: decoy_448.pdbqt', 'failed: decoy_449.pdbqt', 'failed: decoy_450.pdbqt', 'failed: decoy_451.pdbqt', 'failed: decoy_452.pdbqt', 'failed: decoy_453.pdbqt', 'failed: decoy_454.pdbqt', 'failed: decoy_455.pdbqt', 'failed: decoy_456.pdbqt', 'failed: decoy_457.pdbqt', 'failed: decoy_458.pdbqt', 'failed: decoy_459.pdbqt', 'failed: decoy_460.pdbqt', 'failed: decoy_461.pdbqt', 'failed: decoy_462.pdbqt', 'failed: decoy_463.pdbqt', 'failed: decoy_464.pdbqt', 'failed: decoy_465.pdbqt', 'failed: decoy_466.pdbqt', 'failed: decoy_467.pdbqt', 'failed: decoy_468.pdbqt', 'failed: decoy_469.pdbqt', 'failed: decoy_470.pdbqt', 'failed: decoy_471.pdbqt', 'failed: decoy_472.pdbqt', 'failed: decoy_473.pdbqt', 'failed: decoy_474.pdbqt', 'failed: decoy_475.pdbqt', 'failed: decoy_476.pdbqt', 'failed: decoy_477.pdbqt', 'failed: decoy_478.pdbqt', 'failed: decoy_479.pdbqt', 'failed: decoy_480.pdbqt', 'failed: decoy_481.pdbqt', 'failed: decoy_482.pdbqt', 'failed: decoy_483.pdbqt', 'failed: decoy_484.pdbqt', 'failed: decoy_485.pdbqt', 'failed: decoy_486.pdbqt', 'failed: decoy_487.pdbqt', 'failed: decoy_488.pdbqt', 'failed: decoy_489.pdbqt', 'failed: decoy_490.pdbqt', 'failed: decoy_491.pdbqt', 'failed: decoy_492.pdbqt', 'failed: decoy_493.pdbqt', 'failed: decoy_494.pdbqt', 'failed: decoy_495.pdbqt', 'failed: decoy_496.pdbqt', 'failed: decoy_497.pdbqt', 'failed: decoy_498.pdbqt', 'failed: decoy_499.pdbqt', 'failed: decoy_500.pdbqt', 'failed: decoy_501.pdbqt', 'failed: decoy_502.pdbqt', 'failed: decoy_503.pdbqt', 'failed: decoy_504.pdbqt', 'failed: decoy_505.pdbqt', 'failed: decoy_506.pdbqt', 'failed: decoy_507.pdbqt', 'failed: decoy_508.pdbqt', 'failed: decoy_509.pdbqt', 'failed: decoy_510.pdbqt', 'failed: decoy_511.pdbqt', 'failed: decoy_512.pdbqt', 'failed: decoy_513.pdbqt', 'failed: decoy_514.pdbqt', 'failed: decoy_515.pdbqt', 'failed: decoy_516.pdbqt', 'failed: decoy_517.pdbqt', 'failed: decoy_518.pdbqt', 'failed: decoy_519.pdbqt', 'failed: decoy_520.pdbqt', 'failed: decoy_521.pdbqt', 'failed: decoy_522.pdbqt', 'failed: decoy_523.pdbqt', 'failed: decoy_524.pdbqt', 'failed: decoy_525.pdbqt', 'failed: decoy_526.pdbqt', 'failed: decoy_527.pdbqt', 'failed: decoy_528.pdbqt', 'failed: decoy_529.pdbqt', 'failed: decoy_530.pdbqt', 'failed: decoy_531.pdbqt', 'failed: decoy_532.pdbqt', 'failed: decoy_533.pdbqt', 'failed: decoy_534.pdbqt', 'failed: decoy_535.pdbqt', 'failed: decoy_536.pdbqt', 'failed: decoy_537.pdbqt', 'failed: decoy_538.pdbqt', 'failed: decoy_539.pdbqt', 'failed: decoy_540.pdbqt', 'failed: decoy_541.pdbqt', 'failed: decoy_542.pdbqt', 'failed: decoy_543.pdbqt', 'failed: decoy_544.pdbqt', 'failed: decoy_545.pdbqt', 'failed: decoy_546.pdbqt', 'failed: decoy_547.pdbqt', 'failed: decoy_548.pdbqt', 'failed: decoy_549.pdbqt', 'failed: decoy_550.pdbqt', 'failed: decoy_551.pdbqt', 'failed: decoy_552.pdbqt', 'failed: decoy_553.pdbqt', 'failed: decoy_554.pdbqt', 'failed: decoy_555.pdbqt', 'failed: decoy_556.pdbqt', 'failed: decoy_557.pdbqt', 'failed: decoy_558.pdbqt', 'failed: decoy_559.pdbqt', 'failed: decoy_560.pdbqt', 'failed: decoy_561.pdbqt', 'failed: decoy_562.pdbqt', 'failed: decoy_563.pdbqt', 'failed: decoy_564.pdbqt', 'failed: decoy_565.pdbqt', 'failed: decoy_566.pdbqt', 'failed: decoy_567.pdbqt', 'failed: decoy_568.pdbqt', 'failed: decoy_569.pdbqt', 'failed: decoy_570.pdbqt', 'failed: decoy_571.pdbqt', 'failed: decoy_572.pdbqt', 'failed: decoy_573.pdbqt', 'failed: decoy_574.pdbqt', 'failed: decoy_575.pdbqt', 'failed: decoy_576.pdbqt', 'failed: decoy_577.pdbqt', 'failed: decoy_578.pdbqt', 'failed: decoy_579.pdbqt', 'failed: decoy_580.pdbqt', 'failed: decoy_581.pdbqt', 'failed: decoy_582.pdbqt', 'failed: decoy_583.pdbqt', 'failed: decoy_584.pdbqt', 'failed: decoy_585.pdbqt', 'failed: decoy_586.pdbqt', 'failed: decoy_587.pdbqt', 'failed: decoy_588.pdbqt', 'failed: decoy_589.pdbqt', 'failed: decoy_590.pdbqt', 'failed: decoy_591.pdbqt', 'failed: decoy_592.pdbqt', 'failed: decoy_593.pdbqt', 'failed: decoy_594.pdbqt', 'failed: decoy_595.pdbqt', 'failed: decoy_596.pdbqt', 'failed: decoy_597.pdbqt', 'failed: decoy_598.pdbqt', 'failed: decoy_599.pdbqt', 'failed: decoy_600.pdbqt', 'failed: decoy_601.pdbqt', 'failed: decoy_602.pdbqt', 'failed: decoy_603.pdbqt', 'failed: decoy_604.pdbqt', 'failed: decoy_605.pdbqt', 'failed: decoy_606.pdbqt', 'failed: decoy_607.pdbqt', 'failed: decoy_608.pdbqt', 'failed: decoy_609.pdbqt', 'failed: decoy_610.pdbqt', 'failed: decoy_611.pdbqt', 'failed: decoy_612.pdbqt', 'failed: decoy_613.pdbqt', 'failed: decoy_614.pdbqt', 'failed: decoy_615.pdbqt', 'failed: decoy_616.pdbqt', 'failed: decoy_617.pdbqt', 'failed: decoy_618.pdbqt', 'failed: decoy_619.pdbqt', 'failed: decoy_620.pdbqt', 'failed: decoy_621.pdbqt', 'failed: decoy_622.pdbqt', 'failed: decoy_623.pdbqt', 'failed: decoy_624.pdbqt', 'failed: decoy_625.pdbqt', 'failed: decoy_626.pdbqt', 'failed: decoy_627.pdbqt', 'failed: decoy_628.pdbqt', 'failed: decoy_629.pdbqt', 'failed: decoy_630.pdbqt', 'failed: decoy_631.pdbqt', 'failed: decoy_632.pdbqt', 'failed: decoy_633.pdbqt', 'failed: decoy_634.pdbqt', 'failed: decoy_635.pdbqt', 'failed: decoy_636.pdbqt', 'failed: decoy_637.pdbqt', 'failed: decoy_638.pdbqt', 'failed: decoy_639.pdbqt', 'failed: decoy_640.pdbqt', 'failed: decoy_641.pdbqt', 'failed: decoy_642.pdbqt', 'failed: decoy_643.pdbqt', 'failed: decoy_644.pdbqt', 'failed: decoy_645.pdbqt', 'failed: decoy_646.pdbqt', 'failed: decoy_647.pdbqt', 'failed: decoy_648.pdbqt', 'failed: decoy_649.pdbqt', 'failed: decoy_650.pdbqt', 'failed: decoy_651.pdbqt', 'failed: decoy_652.pdbqt', 'failed: decoy_653.pdbqt', 'failed: decoy_654.pdbqt', 'failed: decoy_655.pdbqt', 'failed: decoy_656.pdbqt', 'failed: decoy_657.pdbqt', 'failed: decoy_658.pdbqt', 'failed: decoy_659.pdbqt', 'failed: decoy_660.pdbqt', 'failed: decoy_661.pdbqt', 'failed: decoy_662.pdbqt', 'failed: decoy_663.pdbqt', 'failed: decoy_664.pdbqt', 'failed: decoy_665.pdbqt', 'failed: decoy_666.pdbqt', 'failed: decoy_667.pdbqt', 'failed: decoy_668.pdbqt', 'failed: decoy_669.pdbqt', 'failed: decoy_670.pdbqt', 'failed: decoy_671.pdbqt', 'failed: decoy_672.pdbqt', 'failed: decoy_673.pdbqt', 'failed: decoy_674.pdbqt', 'failed: decoy_675.pdbqt', 'failed: decoy_676.pdbqt', 'failed: decoy_677.pdbqt', 'failed: decoy_678.pdbqt', 'failed: decoy_679.pdbqt', 'failed: decoy_680.pdbqt', 'failed: decoy_681.pdbqt', 'failed: decoy_682.pdbqt', 'failed: decoy_683.pdbqt', 'failed: decoy_684.pdbqt', 'failed: decoy_685.pdbqt', 'failed: decoy_686.pdbqt', 'failed: decoy_687.pdbqt', 'failed: decoy_688.pdbqt', 'failed: decoy_689.pdbqt', 'failed: decoy_690.pdbqt', 'failed: decoy_691.pdbqt', 'failed: decoy_692.pdbqt', 'failed: decoy_693.pdbqt', 'failed: decoy_694.pdbqt', 'failed: decoy_695.pdbqt', 'failed: decoy_696.pdbqt', 'failed: decoy_697.pdbqt', 'failed: decoy_698.pdbqt', 'failed: decoy_699.pdbqt', 'failed: decoy_700.pdbqt', 'failed: decoy_701.pdbqt', 'failed: decoy_702.pdbqt', 'failed: decoy_703.pdbqt', 'failed: decoy_704.pdbqt', 'failed: decoy_705.pdbqt', 'failed: decoy_706.pdbqt', 'failed: decoy_707.pdbqt', 'failed: decoy_708.pdbqt', 'failed: decoy_709.pdbqt', 'failed: decoy_710.pdbqt', 'failed: decoy_711.pdbqt', 'failed: decoy_712.pdbqt', 'failed: decoy_713.pdbqt', 'failed: decoy_714.pdbqt', 'failed: decoy_715.pdbqt', 'failed: decoy_716.pdbqt', 'failed: decoy_717.pdbqt', 'failed: decoy_718.pdbqt', 'failed: decoy_719.pdbqt', 'failed: decoy_720.pdbqt', 'failed: decoy_721.pdbqt', 'failed: decoy_722.pdbqt', 'failed: decoy_723.pdbqt', 'failed: decoy_724.pdbqt', 'failed: decoy_725.pdbqt', 'failed: decoy_726.pdbqt', 'failed: decoy_727.pdbqt', 'failed: decoy_728.pdbqt', 'failed: decoy_729.pdbqt', 'failed: decoy_730.pdbqt', 'failed: decoy_731.pdbqt', 'failed: decoy_732.pdbqt', 'failed: decoy_733.pdbqt', 'failed: decoy_734.pdbqt', 'failed: decoy_735.pdbqt', 'failed: decoy_736.pdbqt', 'failed: decoy_737.pdbqt', 'failed: decoy_738.pdbqt', 'failed: decoy_739.pdbqt', 'failed: decoy_740.pdbqt', 'failed: decoy_741.pdbqt', 'failed: decoy_742.pdbqt', 'failed: decoy_743.pdbqt', 'failed: decoy_744.pdbqt', 'failed: decoy_745.pdbqt', 'failed: decoy_746.pdbqt', 'failed: decoy_747.pdbqt', 'failed: decoy_748.pdbqt', 'failed: decoy_749.pdbqt', 'failed: decoy_750.pdbqt', 'failed: decoy_751.pdbqt', 'failed: decoy_752.pdbqt', 'failed: decoy_753.pdbqt', 'failed: decoy_754.pdbqt', 'failed: decoy_755.pdbqt', 'failed: decoy_756.pdbqt', 'failed: decoy_757.pdbqt', 'failed: decoy_758.pdbqt', 'failed: decoy_759.pdbqt', 'failed: decoy_760.pdbqt', 'failed: decoy_761.pdbqt', 'failed: decoy_762.pdbqt', 'failed: decoy_763.pdbqt', 'failed: decoy_764.pdbqt', 'failed: decoy_765.pdbqt', 'failed: decoy_766.pdbqt', 'failed: decoy_767.pdbqt', 'failed: decoy_768.pdbqt', 'failed: decoy_769.pdbqt', 'failed: decoy_770.pdbqt', 'failed: decoy_771.pdbqt', 'failed: decoy_772.pdbqt', 'failed: decoy_773.pdbqt', 'failed: decoy_774.pdbqt', 'failed: decoy_775.pdbqt', 'failed: decoy_776.pdbqt', 'failed: decoy_777.pdbqt', 'failed: decoy_778.pdbqt', 'failed: decoy_779.pdbqt', 'failed: decoy_780.pdbqt', 'failed: decoy_781.pdbqt', 'failed: decoy_782.pdbqt', 'failed: decoy_783.pdbqt', 'failed: decoy_784.pdbqt', 'failed: decoy_785.pdbqt', 'failed: decoy_786.pdbqt', 'failed: decoy_787.pdbqt', 'failed: decoy_788.pdbqt', 'failed: decoy_789.pdbqt', 'failed: decoy_790.pdbqt', 'failed: decoy_791.pdbqt', 'failed: decoy_792.pdbqt', 'failed: decoy_793.pdbqt', 'failed: decoy_794.pdbqt', 'failed: decoy_795.pdbqt', 'failed: decoy_796.pdbqt', 'failed: decoy_797.pdbqt', 'failed: decoy_798.pdbqt', 'failed: decoy_799.pdbqt', 'failed: decoy_800.pdbqt', 'failed: decoy_801.pdbqt', 'failed: decoy_802.pdbqt', 'failed: decoy_803.pdbqt', 'failed: decoy_804.pdbqt', 'failed: decoy_805.pdbqt', 'failed: decoy_806.pdbqt', 'failed: decoy_807.pdbqt', 'failed: decoy_808.pdbqt', 'failed: decoy_809.pdbqt', 'failed: decoy_810.pdbqt', 'failed: decoy_811.pdbqt', 'failed: decoy_812.pdbqt', 'failed: decoy_813.pdbqt', 'failed: decoy_814.pdbqt', 'failed: decoy_815.pdbqt', 'failed: decoy_816.pdbqt', 'failed: decoy_817.pdbqt', 'failed: decoy_818.pdbqt', 'failed: decoy_819.pdbqt', 'failed: decoy_820.pdbqt', 'failed: decoy_821.pdbqt', 'failed: decoy_822.pdbqt', 'failed: decoy_823.pdbqt', 'failed: decoy_824.pdbqt', 'failed: decoy_825.pdbqt', 'failed: decoy_826.pdbqt', 'failed: decoy_827.pdbqt', 'failed: decoy_828.pdbqt', 'failed: decoy_829.pdbqt', 'failed: decoy_830.pdbqt', 'failed: decoy_831.pdbqt', 'failed: decoy_832.pdbqt', 'failed: decoy_833.pdbqt', 'failed: decoy_834.pdbqt', 'failed: decoy_835.pdbqt', 'failed: decoy_836.pdbqt', 'failed: decoy_837.pdbqt', 'failed: decoy_838.pdbqt', 'failed: decoy_839.pdbqt', 'failed: decoy_840.pdbqt', 'failed: decoy_841.pdbqt', 'failed: decoy_842.pdbqt', 'failed: decoy_843.pdbqt', 'failed: decoy_844.pdbqt', 'failed: decoy_845.pdbqt', 'failed: decoy_846.pdbqt', 'failed: decoy_847.pdbqt', 'failed: decoy_848.pdbqt', 'failed: decoy_849.pdbqt', 'failed: decoy_850.pdbqt', 'failed: decoy_851.pdbqt', 'failed: decoy_852.pdbqt', 'failed: decoy_853.pdbqt', 'failed: decoy_854.pdbqt', 'failed: decoy_855.pdbqt', 'failed: decoy_856.pdbqt', 'failed: decoy_857.pdbqt', 'failed: decoy_858.pdbqt', 'failed: decoy_859.pdbqt', 'failed: decoy_860.pdbqt', 'failed: decoy_861.pdbqt', 'failed: decoy_862.pdbqt', 'failed: decoy_863.pdbqt', 'failed: decoy_864.pdbqt', 'failed: decoy_865.pdbqt', 'failed: decoy_866.pdbqt', 'failed: decoy_867.pdbqt', 'failed: decoy_868.pdbqt', 'failed: decoy_869.pdbqt', 'failed: decoy_870.pdbqt', 'failed: decoy_871.pdbqt', 'failed: decoy_872.pdbqt', 'failed: decoy_873.pdbqt', 'failed: decoy_874.pdbqt', 'failed: decoy_875.pdbqt', 'failed: decoy_876.pdbqt', 'failed: decoy_877.pdbqt', 'failed: decoy_878.pdbqt', 'failed: decoy_879.pdbqt', 'failed: decoy_880.pdbqt', 'failed: decoy_881.pdbqt', 'failed: decoy_882.pdbqt', 'failed: decoy_883.pdbqt', 'failed: decoy_884.pdbqt', 'failed: decoy_885.pdbqt', 'failed: decoy_886.pdbqt', 'failed: decoy_887.pdbqt', 'failed: decoy_888.pdbqt', 'failed: decoy_889.pdbqt', 'failed: decoy_890.pdbqt', 'failed: decoy_891.pdbqt', 'failed: decoy_892.pdbqt', 'failed: decoy_893.pdbqt', 'failed: decoy_894.pdbqt', 'failed: decoy_895.pdbqt', 'failed: decoy_896.pdbqt', 'failed: decoy_897.pdbqt', 'failed: decoy_898.pdbqt', 'failed: decoy_899.pdbqt', 'failed: decoy_900.pdbqt', 'failed: decoy_901.pdbqt', 'failed: decoy_902.pdbqt', 'failed: decoy_903.pdbqt', 'failed: decoy_904.pdbqt', 'failed: decoy_905.pdbqt', 'failed: decoy_906.pdbqt', 'failed: decoy_907.pdbqt', 'failed: decoy_908.pdbqt', 'failed: decoy_909.pdbqt', 'failed: decoy_910.pdbqt', 'failed: decoy_911.pdbqt', 'failed: decoy_912.pdbqt', 'failed: decoy_913.pdbqt', 'failed: decoy_914.pdbqt', 'failed: decoy_915.pdbqt', 'failed: decoy_916.pdbqt', 'failed: decoy_917.pdbqt', 'failed: decoy_918.pdbqt', 'failed: decoy_919.pdbqt', 'failed: decoy_920.pdbqt', 'failed: decoy_921.pdbqt', 'failed: decoy_922.pdbqt', 'failed: decoy_923.pdbqt', 'failed: decoy_924.pdbqt', 'failed: decoy_925.pdbqt', 'failed: decoy_926.pdbqt', 'failed: decoy_927.pdbqt', 'failed: decoy_928.pdbqt', 'failed: decoy_929.pdbqt', 'failed: decoy_930.pdbqt', 'failed: decoy_931.pdbqt', 'failed: decoy_932.pdbqt', 'failed: decoy_933.pdbqt', 'failed: decoy_934.pdbqt', 'failed: decoy_935.pdbqt', 'failed: decoy_936.pdbqt', 'failed: decoy_937.pdbqt', 'failed: decoy_938.pdbqt', 'failed: decoy_939.pdbqt', 'failed: decoy_940.pdbqt', 'failed: decoy_941.pdbqt', 'failed: decoy_942.pdbqt', 'failed: decoy_943.pdbqt', 'failed: decoy_944.pdbqt', 'failed: decoy_945.pdbqt', 'failed: decoy_946.pdbqt', 'failed: decoy_947.pdbqt', 'failed: decoy_948.pdbqt', 'failed: decoy_949.pdbqt', 'failed: decoy_950.pdbqt', 'failed: decoy_951.pdbqt', 'failed: decoy_952.pdbqt', 'failed: decoy_953.pdbqt', 'failed: decoy_954.pdbqt', 'failed: decoy_955.pdbqt', 'failed: decoy_956.pdbqt', 'failed: decoy_957.pdbqt', 'failed: decoy_958.pdbqt', 'failed: decoy_959.pdbqt', 'failed: decoy_960.pdbqt', 'failed: decoy_961.pdbqt', 'failed: decoy_962.pdbqt', 'failed: decoy_963.pdbqt', 'failed: decoy_964.pdbqt', 'failed: decoy_965.pdbqt', 'failed: decoy_966.pdbqt', 'failed: decoy_967.pdbqt', 'failed: decoy_968.pdbqt', 'failed: decoy_969.pdbqt', 'failed: decoy_970.pdbqt', 'failed: decoy_971.pdbqt', 'failed: decoy_972.pdbqt', 'failed: decoy_973.pdbqt', 'failed: decoy_974.pdbqt', 'failed: decoy_975.pdbqt', 'failed: decoy_976.pdbqt', 'failed: decoy_977.pdbqt', 'failed: decoy_978.pdbqt', 'failed: decoy_979.pdbqt', 'failed: decoy_980.pdbqt', 'failed: decoy_981.pdbqt', 'failed: decoy_982.pdbqt', 'failed: decoy_983.pdbqt', 'failed: decoy_984.pdbqt', 'failed: decoy_985.pdbqt', 'failed: decoy_986.pdbqt', 'failed: decoy_987.pdbqt', 'failed: decoy_988.pdbqt', 'failed: decoy_989.pdbqt', 'failed: decoy_990.pdbqt', 'failed: decoy_991.pdbqt', 'failed: decoy_992.pdbqt', 'failed: decoy_993.pdbqt', 'failed: decoy_994.pdbqt', 'failed: decoy_995.pdbqt', 'failed: decoy_996.pdbqt', 'failed: decoy_997.pdbqt', 'failed: decoy_998.pdbqt', 'failed: decoy_999.pdbqt']\n"
     ]
    }
   ],
   "source": [
    "# Do docking for all decoys\n",
    "receptor_file = f\"{dir}/{receptor}-receptor.pdbqt\"\n",
    "output_dir = f\"{dir}/vs_results_decoys\"\n",
    "os.makedirs(output_dir, exist_ok=True)\n",
    "\n",
    "ligands = sorted([f for f in os.listdir(output_dir_decoys) if f.endswith(\".pdbqt\")])\n",
    "\n",
    "results = Parallel(n_jobs=os.cpu_count())(delayed(dock)(lig, output_dir_decoys) for lig in ligands)\n",
    "print(results)"
   ]
  },
  {
   "cell_type": "code",
   "execution_count": 38,
   "metadata": {
    "ExecuteTime": {
     "end_time": "2025-07-09T20:48:41.685917Z",
     "start_time": "2025-07-09T20:48:41.676467Z"
    }
   },
   "outputs": [],
   "source": [
    "# Function to extract the binding affinity of the energetically most favorable candidate from the vina_docked file\n",
    "def extract_top_score(vina_pdbqt_path):\n",
    "    with open(vina_pdbqt_path) as f:\n",
    "        for line in f:\n",
    "            if line.startswith('REMARK VINA RESULT:'):\n",
    "                parts = line.strip().split()\n",
    "                if len(parts) >= 4:\n",
    "                    return float(parts[3])\n",
    "        return None # if there is a problem (no score found)"
   ]
  },
  {
   "cell_type": "code",
   "execution_count": 39,
   "metadata": {
    "ExecuteTime": {
     "end_time": "2025-07-09T20:48:42.435714Z",
     "start_time": "2025-07-09T20:48:42.418177Z"
    }
   },
   "outputs": [],
   "source": [
    "# merge docking results (score) into one dataframe with label (ligand/decoy)\n",
    "results_dir = f\"{dir}/vs_results_ligands\"\n",
    "data = []\n",
    "\n",
    "# store info of ligands\n",
    "for file in os.listdir(results_dir):\n",
    "    if file.endswith(\"_docked.pdbqt\"):\n",
    "        path = os.path.join(results_dir, file)\n",
    "        score = extract_top_score(path)\n",
    "        ligand_id = file.replace(\"_docked.pdbqt\", \"\")\n",
    "        data.append({\"molecule\": f\"ligand_{ligand_id}\", \"score\": score, \"label\": 1})\n",
    "\n",
    "# store info of decoys\n",
    "results_dir = f\"{dir}/vs_results_decoys\"\n",
    "\n",
    "for file in os.listdir(results_dir):\n",
    "    if file.endswith(\"_docked.pdbqt\"):\n",
    "        path = os.path.join(results_dir, file)\n",
    "        score = extract_top_score(path)\n",
    "        ligand_id = file.replace(\"_docked.pdbqt\", \"\")\n",
    "        data.append({\"molecule\": f\"decoy_{ligand_id}\", \"score\": score, \"label\": 0})\n",
    "\n",
    "# store merged info\n",
    "df = pd.DataFrame(data)"
   ]
  },
  {
   "cell_type": "code",
   "execution_count": 23,
   "metadata": {
    "ExecuteTime": {
     "end_time": "2025-07-09T20:34:21.062220Z",
     "start_time": "2025-07-09T20:34:21.015641Z"
    }
   },
   "outputs": [
    {
     "ename": "KeyError",
     "evalue": "'score'",
     "output_type": "error",
     "traceback": [
      "\u001B[0;31m---------------------------------------------------------------------------\u001B[0m",
      "\u001B[0;31mKeyError\u001B[0m                                  Traceback (most recent call last)",
      "Cell \u001B[0;32mIn[23], line 3\u001B[0m\n\u001B[1;32m      1\u001B[0m \u001B[38;5;66;03m# calculate ROC and AUC\u001B[39;00m\n\u001B[1;32m      2\u001B[0m \u001B[38;5;66;03m# invert score as negative scores are better\u001B[39;00m\n\u001B[0;32m----> 3\u001B[0m df[\u001B[38;5;124m\"\u001B[39m\u001B[38;5;124mscore_inv\u001B[39m\u001B[38;5;124m\"\u001B[39m] \u001B[38;5;241m=\u001B[39m \u001B[38;5;241m-\u001B[39m\u001B[43mdf\u001B[49m\u001B[43m[\u001B[49m\u001B[38;5;124;43m\"\u001B[39;49m\u001B[38;5;124;43mscore\u001B[39;49m\u001B[38;5;124;43m\"\u001B[39;49m\u001B[43m]\u001B[49m \n\u001B[1;32m      5\u001B[0m \u001B[38;5;66;03m#df['scaled_score'] = (df['score_inv'] - df['score_inv'].min()) / (df['score_inv'].max() - df['score_inv'].min())\u001B[39;00m\n\u001B[1;32m      6\u001B[0m \n\u001B[1;32m      7\u001B[0m \u001B[38;5;66;03m# calculate fpr, tpr at varying thresholds\u001B[39;00m\n\u001B[1;32m      8\u001B[0m fpr, tpr, thresholds \u001B[38;5;241m=\u001B[39m roc_curve(df[\u001B[38;5;124m\"\u001B[39m\u001B[38;5;124mlabel\u001B[39m\u001B[38;5;124m\"\u001B[39m], df[\u001B[38;5;124m\"\u001B[39m\u001B[38;5;124mscore_inv\u001B[39m\u001B[38;5;124m\"\u001B[39m])\n",
      "File \u001B[0;32m~/opt/anaconda3/envs/MARVIN/lib/python3.9/site-packages/pandas/core/frame.py:4090\u001B[0m, in \u001B[0;36mDataFrame.__getitem__\u001B[0;34m(self, key)\u001B[0m\n\u001B[1;32m   4088\u001B[0m \u001B[38;5;28;01mif\u001B[39;00m \u001B[38;5;28mself\u001B[39m\u001B[38;5;241m.\u001B[39mcolumns\u001B[38;5;241m.\u001B[39mnlevels \u001B[38;5;241m>\u001B[39m \u001B[38;5;241m1\u001B[39m:\n\u001B[1;32m   4089\u001B[0m     \u001B[38;5;28;01mreturn\u001B[39;00m \u001B[38;5;28mself\u001B[39m\u001B[38;5;241m.\u001B[39m_getitem_multilevel(key)\n\u001B[0;32m-> 4090\u001B[0m indexer \u001B[38;5;241m=\u001B[39m \u001B[38;5;28;43mself\u001B[39;49m\u001B[38;5;241;43m.\u001B[39;49m\u001B[43mcolumns\u001B[49m\u001B[38;5;241;43m.\u001B[39;49m\u001B[43mget_loc\u001B[49m\u001B[43m(\u001B[49m\u001B[43mkey\u001B[49m\u001B[43m)\u001B[49m\n\u001B[1;32m   4091\u001B[0m \u001B[38;5;28;01mif\u001B[39;00m is_integer(indexer):\n\u001B[1;32m   4092\u001B[0m     indexer \u001B[38;5;241m=\u001B[39m [indexer]\n",
      "File \u001B[0;32m~/opt/anaconda3/envs/MARVIN/lib/python3.9/site-packages/pandas/core/indexes/range.py:417\u001B[0m, in \u001B[0;36mRangeIndex.get_loc\u001B[0;34m(self, key)\u001B[0m\n\u001B[1;32m    415\u001B[0m         \u001B[38;5;28;01mraise\u001B[39;00m \u001B[38;5;167;01mKeyError\u001B[39;00m(key) \u001B[38;5;28;01mfrom\u001B[39;00m \u001B[38;5;21;01merr\u001B[39;00m\n\u001B[1;32m    416\u001B[0m \u001B[38;5;28;01mif\u001B[39;00m \u001B[38;5;28misinstance\u001B[39m(key, Hashable):\n\u001B[0;32m--> 417\u001B[0m     \u001B[38;5;28;01mraise\u001B[39;00m \u001B[38;5;167;01mKeyError\u001B[39;00m(key)\n\u001B[1;32m    418\u001B[0m \u001B[38;5;28mself\u001B[39m\u001B[38;5;241m.\u001B[39m_check_indexing_error(key)\n\u001B[1;32m    419\u001B[0m \u001B[38;5;28;01mraise\u001B[39;00m \u001B[38;5;167;01mKeyError\u001B[39;00m(key)\n",
      "\u001B[0;31mKeyError\u001B[0m: 'score'"
     ]
    }
   ],
   "source": [
    "# calculate ROC and AUC\n",
    "# invert score as negative scores are better\n",
    "df[\"score_inv\"] = -df[\"score\"] \n",
    "\n",
    "#df['scaled_score'] = (df['score_inv'] - df['score_inv'].min()) / (df['score_inv'].max() - df['score_inv'].min())\n",
    "\n",
    "# calculate fpr, tpr at varying thresholds\n",
    "fpr, tpr, thresholds = roc_curve(df[\"label\"], df[\"score_inv\"])\n",
    "\n",
    "# calculate auc \n",
    "auc = roc_auc_score(df[\"label\"], df[\"score_inv\"])\n",
    "\n",
    "# plot ROC\n",
    "plt.plot(fpr, tpr, label=f\"AUC = {auc:.3f}\")\n",
    "plt.plot([0,1], [0,1], \"--\", color=\"gray\")\n",
    "plt.xlabel(\"False Positive Rate\", fontsize = 16)\n",
    "plt.ylabel(\"True Positive Rate\", fontsize = 16)\n",
    "plt.legend(fontsize = 16)\n",
    "plt.grid(True)\n",
    "plt.savefig(f\"{dir}/ROC.png\")\n",
    "plt.show()"
   ]
  }
 ],
 "metadata": {
  "kernelspec": {
   "display_name": "Python 3 (ipykernel)",
   "language": "python",
   "name": "python3"
  },
  "language_info": {
   "codemirror_mode": {
    "name": "ipython",
    "version": 3
   },
   "file_extension": ".py",
   "mimetype": "text/x-python",
   "name": "python",
   "nbconvert_exporter": "python",
   "pygments_lexer": "ipython3",
   "version": "3.9.7"
  }
 },
 "nbformat": 4,
 "nbformat_minor": 2
}
